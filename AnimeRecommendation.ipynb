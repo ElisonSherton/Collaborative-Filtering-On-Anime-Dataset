{
  "nbformat": 4,
  "nbformat_minor": 0,
  "metadata": {
    "colab": {
      "name": "AnimeRecommendation.ipynb",
      "provenance": [],
      "collapsed_sections": [],
      "toc_visible": true,
      "mount_file_id": "1xQ-k1g0bhT1_CPpaiNKI0YDe_3wgpXB9",
      "authorship_tag": "ABX9TyP78VtHA4f9j2OiRY9dwrZ9",
      "include_colab_link": true
    },
    "kernelspec": {
      "name": "python3",
      "display_name": "Python 3"
    },
    "accelerator": "GPU"
  },
  "cells": [
    {
      "cell_type": "markdown",
      "metadata": {
        "id": "view-in-github",
        "colab_type": "text"
      },
      "source": [
        "<a href=\"https://colab.research.google.com/github/ElisonSherton/Collaborative-Filtering-On-Anime-Dataset/blob/master/AnimeRecommendation.ipynb\" target=\"_parent\"><img src=\"https://colab.research.google.com/assets/colab-badge.svg\" alt=\"Open In Colab\"/></a>"
      ]
    },
    {
      "cell_type": "markdown",
      "metadata": {
        "id": "u9y_UNA_01Vr",
        "colab_type": "text"
      },
      "source": [
        "# Building an Anime Recommendation System using fastai\n",
        "\n",
        "The dataset for this experiment is available on [kaggle here](https://www.kaggle.com/CooperUnion/anime-recommendations-database?select=anime.csv).\n",
        "\n",
        "## Introduction\n",
        "In today's world where data is oil, one way of utiliziing data is to perform the task of suggestion/recommendation for individuals. In this fast paced world where content is created at an astounding pace, viewers like it when they're suggested content similar to what they've seen before. \n",
        "\n",
        "In order to do so, the choices, likes, tastes of the users are recorded in the form of ratings or a score which is typically bound in a finite range (most commonly 0-5 or 0-10) where 0 represents that the user strongly disliked the content and 5 or 10 represent that the user found the content very entertaining and to his liking. \n",
        "\n",
        "Using this data in order to figure out what to next to suggest to a user is what collaborative filtering is all about. In place of user-anime or user-movie it could be anything like consumer-product or user-news article or subscriber-social media posts and so on. \n",
        "\n",
        "The more feedback that is obtained from the user, the more relevent the suggestions become because the algorithm gets to understand the tastes of an individual more and more.\n",
        "\n",
        "There are several ways to perform collaborative filtering and today, we'll be discussing two of them. We'll be using fastai2 which is a library built by Sylvain Gugger and Jeremy Howard which is an awesome interface built on top of PyTorch for performing deep learning experiments. So, without any further ado, let's get started.\n",
        "\n",
        "## The basis\n",
        "In order to perform collaborative filtering, both the user/ subscriber/ consumer and the item/ article/ product are represented as matrices. (terminology here is specific to the application but since we're dealing with anime data, we'll call users as viewers and item as anime respectively.)\n",
        "\n",
        "More precisely, every user is represented as a vector of numeric values and so is every anime. These values are learned by the algorithm to minimize a loss function which is most commonly the Mean Squared Error Loss (MSE). \n",
        "\n",
        "The values learned for the user and anime vectors correspond to an abstract n-dimensional space and really have no human-interpretable meaning. But as an attempt to understand what's really happening, we can think of it this way.\n",
        "\n",
        "Let's say every anime consists of 5 components - romance, comedy, slice of life, harem and action. Then an anime can be represented in the vector space of 5-Dimensions each dimension being one of the above. \n",
        "\n",
        "In that 5-Dimensional world, Oregairu and Hyouka would be closer to each other and Tokyo Ghoul would be relatively far from them. This approach therefore creates a n-dimensional space where all anime that have similar components will be grouped closer than the ones which have different anime.\n",
        "\n",
        "Now, think of the viewer. The viewer vector will on the other hand represent what proportion of every dimension is dear to the user. Let's say the user is a fan of romance and slice of life, then the vector representation of this user will have high numeric values along those dimensions and a smaller numeric value along the remaining dimensions. \n",
        "\n",
        "In order to consolidate the information from both the viewer and anime we resort to using the dot product which is a simple multiplication along the respective vector dimensions followed by an aggregation. Let me explain this using the scenario we considered above. \n",
        "\n",
        "As we can see Hyouka and Oregairu have mostly similar values along all the dimensions and Tokyo Ghoul has pretty different values across all dimensions. Viewer 1 prefers action and slice of life a lot more than other components, so, let's compute the dot product of viewer 1 with all three anime.\n",
        "\n",
        "Viewer 1's dot product with all three anime are 29.2, 26 and 31.8 respectively. This means Viewer 1 likes Tokyo Ghoul the best which is indeed high on action. \n",
        "\n",
        "Viewer 2 on the other hand is into romance and harem. His dot product with all three anime are 47.5, 35.5, 22.5 which means he would like Oregairu the most which is indeed a teenage love comedy! Yukinoshita, Yuigahama, Ishhiki damn even Shizuka, his teacher, seem to have the hots for Hachiman; don't you dare tell me you overlooked the harem in this anime...\n",
        "\n",
        "After that otaku tangent, getting back to the topic at hand, we can see how representing viewers and anime as a vector can prove useful to determine a ranking of how a viewer would like all the anime or which users will like a particular anime and that's a very valuable insight which streaming companies like Netflix are exploiting. \n",
        "\n",
        "There's also an additional component to both the viewer and the anime which is technically called bias. It is a quantity used to represent unique information about that particular user or that particular anime respectively. So, if there's a user who on an average rates all anime highly or there's an anime which is a favorite across all viewers irrespective of their choices, such information is captured by a term called bias. So, every viewer and every anime is represented in this structure using an n-dimensional vector and a bias term. \n",
        "\n",
        "## Collaborative Filtering in fastai2\n",
        "fastai2 provides a learner called collab_learner which could be used in order to perform collaborative filtering. Let's dive right into it.\n"
      ]
    },
    {
      "cell_type": "code",
      "metadata": {
        "id": "R4cUIsEI1VO8",
        "colab_type": "code",
        "colab": {}
      },
      "source": [
        "import warnings\n",
        "warnings.filterwarnings(\"ignore\")"
      ],
      "execution_count": 2,
      "outputs": []
    },
    {
      "cell_type": "code",
      "metadata": {
        "id": "DRwId-4v79gw",
        "colab_type": "code",
        "colab": {}
      },
      "source": [
        "# !pip install pandas==1.1.1\n",
        "import pandas as pd\n",
        "import os\n",
        "\n",
        "import matplotlib.pyplot as plt\n",
        "import seaborn as sns\n",
        "%matplotlib inline"
      ],
      "execution_count": 3,
      "outputs": []
    },
    {
      "cell_type": "code",
      "metadata": {
        "id": "XY0hTDlV1Is6",
        "colab_type": "code",
        "colab": {}
      },
      "source": [
        "!pip install -Uqq fastbook\n",
        "import fastbook"
      ],
      "execution_count": 4,
      "outputs": []
    },
    {
      "cell_type": "code",
      "metadata": {
        "id": "M49QJAGV02fE",
        "colab_type": "code",
        "colab": {}
      },
      "source": [
        "from fastbook import *"
      ],
      "execution_count": 5,
      "outputs": []
    },
    {
      "cell_type": "code",
      "metadata": {
        "id": "MJdpqEHn02iX",
        "colab_type": "code",
        "colab": {}
      },
      "source": [
        "from fastai import *\n",
        "from fastai.collab import *"
      ],
      "execution_count": 6,
      "outputs": []
    },
    {
      "cell_type": "code",
      "metadata": {
        "id": "0SUedCmC02lc",
        "colab_type": "code",
        "colab": {}
      },
      "source": [
        "os.chdir(\"./drive/My Drive/Colab Notebooks/AnimeRecommendations\")"
      ],
      "execution_count": 7,
      "outputs": []
    },
    {
      "cell_type": "code",
      "metadata": {
        "id": "aJsrXpIL02o0",
        "colab_type": "code",
        "colab": {
          "base_uri": "https://localhost:8080/",
          "height": 100
        },
        "outputId": "24b37de6-daed-461b-b28e-a00857fea45b"
      },
      "source": [
        "os.listdir(\".\")"
      ],
      "execution_count": 8,
      "outputs": [
        {
          "output_type": "execute_result",
          "data": {
            "text/plain": [
              "['anime.csv',\n",
              " 'rating.csv',\n",
              " 'models',\n",
              " 'NN_Recommender_model.pkl',\n",
              " 'Embedding_Dot_Bias_Recommender_model.pkl']"
            ]
          },
          "metadata": {
            "tags": []
          },
          "execution_count": 8
        }
      ]
    },
    {
      "cell_type": "code",
      "metadata": {
        "id": "MCAje5aS02uJ",
        "colab_type": "code",
        "colab": {
          "base_uri": "https://localhost:8080/",
          "height": 197
        },
        "outputId": "daf4a861-f308-4c1b-dae3-063f3bf9d6e3"
      },
      "source": [
        "data = pd.read_csv(\"./rating.csv\")\n",
        "data.columns = ['user_id', 'anime_id', 'ratings']\n",
        "data.head()"
      ],
      "execution_count": 9,
      "outputs": [
        {
          "output_type": "execute_result",
          "data": {
            "text/html": [
              "<div>\n",
              "<style scoped>\n",
              "    .dataframe tbody tr th:only-of-type {\n",
              "        vertical-align: middle;\n",
              "    }\n",
              "\n",
              "    .dataframe tbody tr th {\n",
              "        vertical-align: top;\n",
              "    }\n",
              "\n",
              "    .dataframe thead th {\n",
              "        text-align: right;\n",
              "    }\n",
              "</style>\n",
              "<table border=\"1\" class=\"dataframe\">\n",
              "  <thead>\n",
              "    <tr style=\"text-align: right;\">\n",
              "      <th></th>\n",
              "      <th>user_id</th>\n",
              "      <th>anime_id</th>\n",
              "      <th>ratings</th>\n",
              "    </tr>\n",
              "  </thead>\n",
              "  <tbody>\n",
              "    <tr>\n",
              "      <th>0</th>\n",
              "      <td>1</td>\n",
              "      <td>20</td>\n",
              "      <td>-1</td>\n",
              "    </tr>\n",
              "    <tr>\n",
              "      <th>1</th>\n",
              "      <td>1</td>\n",
              "      <td>24</td>\n",
              "      <td>-1</td>\n",
              "    </tr>\n",
              "    <tr>\n",
              "      <th>2</th>\n",
              "      <td>1</td>\n",
              "      <td>79</td>\n",
              "      <td>-1</td>\n",
              "    </tr>\n",
              "    <tr>\n",
              "      <th>3</th>\n",
              "      <td>1</td>\n",
              "      <td>226</td>\n",
              "      <td>-1</td>\n",
              "    </tr>\n",
              "    <tr>\n",
              "      <th>4</th>\n",
              "      <td>1</td>\n",
              "      <td>241</td>\n",
              "      <td>-1</td>\n",
              "    </tr>\n",
              "  </tbody>\n",
              "</table>\n",
              "</div>"
            ],
            "text/plain": [
              "   user_id  anime_id  ratings\n",
              "0        1        20       -1\n",
              "1        1        24       -1\n",
              "2        1        79       -1\n",
              "3        1       226       -1\n",
              "4        1       241       -1"
            ]
          },
          "metadata": {
            "tags": []
          },
          "execution_count": 9
        }
      ]
    },
    {
      "cell_type": "code",
      "metadata": {
        "id": "wsopXJLM0QDL",
        "colab_type": "code",
        "colab": {
          "base_uri": "https://localhost:8080/",
          "height": 197
        },
        "outputId": "0220bab1-503f-4f9c-bc46-3a2a963078d7"
      },
      "source": [
        "anime_data = pd.read_csv(\"./anime.csv\")\n",
        "anime_data.head()"
      ],
      "execution_count": 10,
      "outputs": [
        {
          "output_type": "execute_result",
          "data": {
            "text/html": [
              "<div>\n",
              "<style scoped>\n",
              "    .dataframe tbody tr th:only-of-type {\n",
              "        vertical-align: middle;\n",
              "    }\n",
              "\n",
              "    .dataframe tbody tr th {\n",
              "        vertical-align: top;\n",
              "    }\n",
              "\n",
              "    .dataframe thead th {\n",
              "        text-align: right;\n",
              "    }\n",
              "</style>\n",
              "<table border=\"1\" class=\"dataframe\">\n",
              "  <thead>\n",
              "    <tr style=\"text-align: right;\">\n",
              "      <th></th>\n",
              "      <th>anime_id</th>\n",
              "      <th>name</th>\n",
              "      <th>genre</th>\n",
              "      <th>type</th>\n",
              "      <th>episodes</th>\n",
              "      <th>rating</th>\n",
              "      <th>members</th>\n",
              "    </tr>\n",
              "  </thead>\n",
              "  <tbody>\n",
              "    <tr>\n",
              "      <th>0</th>\n",
              "      <td>32281</td>\n",
              "      <td>Kimi no Na wa.</td>\n",
              "      <td>Drama, Romance, School, Supernatural</td>\n",
              "      <td>Movie</td>\n",
              "      <td>1</td>\n",
              "      <td>9.37</td>\n",
              "      <td>200630</td>\n",
              "    </tr>\n",
              "    <tr>\n",
              "      <th>1</th>\n",
              "      <td>5114</td>\n",
              "      <td>Fullmetal Alchemist: Brotherhood</td>\n",
              "      <td>Action, Adventure, Drama, Fantasy, Magic, Military, Shounen</td>\n",
              "      <td>TV</td>\n",
              "      <td>64</td>\n",
              "      <td>9.26</td>\n",
              "      <td>793665</td>\n",
              "    </tr>\n",
              "    <tr>\n",
              "      <th>2</th>\n",
              "      <td>28977</td>\n",
              "      <td>Gintama°</td>\n",
              "      <td>Action, Comedy, Historical, Parody, Samurai, Sci-Fi, Shounen</td>\n",
              "      <td>TV</td>\n",
              "      <td>51</td>\n",
              "      <td>9.25</td>\n",
              "      <td>114262</td>\n",
              "    </tr>\n",
              "    <tr>\n",
              "      <th>3</th>\n",
              "      <td>9253</td>\n",
              "      <td>Steins;Gate</td>\n",
              "      <td>Sci-Fi, Thriller</td>\n",
              "      <td>TV</td>\n",
              "      <td>24</td>\n",
              "      <td>9.17</td>\n",
              "      <td>673572</td>\n",
              "    </tr>\n",
              "    <tr>\n",
              "      <th>4</th>\n",
              "      <td>9969</td>\n",
              "      <td>Gintama&amp;#039;</td>\n",
              "      <td>Action, Comedy, Historical, Parody, Samurai, Sci-Fi, Shounen</td>\n",
              "      <td>TV</td>\n",
              "      <td>51</td>\n",
              "      <td>9.16</td>\n",
              "      <td>151266</td>\n",
              "    </tr>\n",
              "  </tbody>\n",
              "</table>\n",
              "</div>"
            ],
            "text/plain": [
              "   anime_id                              name  \\\n",
              "0     32281                    Kimi no Na wa.   \n",
              "1      5114  Fullmetal Alchemist: Brotherhood   \n",
              "2     28977                          Gintama°   \n",
              "3      9253                       Steins;Gate   \n",
              "4      9969                     Gintama&#039;   \n",
              "\n",
              "                                                          genre   type  \\\n",
              "0                          Drama, Romance, School, Supernatural  Movie   \n",
              "1   Action, Adventure, Drama, Fantasy, Magic, Military, Shounen     TV   \n",
              "2  Action, Comedy, Historical, Parody, Samurai, Sci-Fi, Shounen     TV   \n",
              "3                                              Sci-Fi, Thriller     TV   \n",
              "4  Action, Comedy, Historical, Parody, Samurai, Sci-Fi, Shounen     TV   \n",
              "\n",
              "  episodes  rating  members  \n",
              "0        1    9.37   200630  \n",
              "1       64    9.26   793665  \n",
              "2       51    9.25   114262  \n",
              "3       24    9.17   673572  \n",
              "4       51    9.16   151266  "
            ]
          },
          "metadata": {
            "tags": []
          },
          "execution_count": 10
        }
      ]
    },
    {
      "cell_type": "code",
      "metadata": {
        "id": "4tWPmd2k0diV",
        "colab_type": "code",
        "colab": {
          "base_uri": "https://localhost:8080/",
          "height": 197
        },
        "outputId": "d703d8bf-4544-495d-ffb5-ae511a228b09"
      },
      "source": [
        "final_data = pd.merge(left = data, right = anime_data, how = \"inner\", on = \"anime_id\")\n",
        "final_data.head()"
      ],
      "execution_count": 11,
      "outputs": [
        {
          "output_type": "execute_result",
          "data": {
            "text/html": [
              "<div>\n",
              "<style scoped>\n",
              "    .dataframe tbody tr th:only-of-type {\n",
              "        vertical-align: middle;\n",
              "    }\n",
              "\n",
              "    .dataframe tbody tr th {\n",
              "        vertical-align: top;\n",
              "    }\n",
              "\n",
              "    .dataframe thead th {\n",
              "        text-align: right;\n",
              "    }\n",
              "</style>\n",
              "<table border=\"1\" class=\"dataframe\">\n",
              "  <thead>\n",
              "    <tr style=\"text-align: right;\">\n",
              "      <th></th>\n",
              "      <th>user_id</th>\n",
              "      <th>anime_id</th>\n",
              "      <th>ratings</th>\n",
              "      <th>name</th>\n",
              "      <th>genre</th>\n",
              "      <th>type</th>\n",
              "      <th>episodes</th>\n",
              "      <th>rating</th>\n",
              "      <th>members</th>\n",
              "    </tr>\n",
              "  </thead>\n",
              "  <tbody>\n",
              "    <tr>\n",
              "      <th>0</th>\n",
              "      <td>1</td>\n",
              "      <td>20</td>\n",
              "      <td>-1</td>\n",
              "      <td>Naruto</td>\n",
              "      <td>Action, Comedy, Martial Arts, Shounen, Super Power</td>\n",
              "      <td>TV</td>\n",
              "      <td>220</td>\n",
              "      <td>7.81</td>\n",
              "      <td>683297</td>\n",
              "    </tr>\n",
              "    <tr>\n",
              "      <th>1</th>\n",
              "      <td>3</td>\n",
              "      <td>20</td>\n",
              "      <td>8</td>\n",
              "      <td>Naruto</td>\n",
              "      <td>Action, Comedy, Martial Arts, Shounen, Super Power</td>\n",
              "      <td>TV</td>\n",
              "      <td>220</td>\n",
              "      <td>7.81</td>\n",
              "      <td>683297</td>\n",
              "    </tr>\n",
              "    <tr>\n",
              "      <th>2</th>\n",
              "      <td>5</td>\n",
              "      <td>20</td>\n",
              "      <td>6</td>\n",
              "      <td>Naruto</td>\n",
              "      <td>Action, Comedy, Martial Arts, Shounen, Super Power</td>\n",
              "      <td>TV</td>\n",
              "      <td>220</td>\n",
              "      <td>7.81</td>\n",
              "      <td>683297</td>\n",
              "    </tr>\n",
              "    <tr>\n",
              "      <th>3</th>\n",
              "      <td>6</td>\n",
              "      <td>20</td>\n",
              "      <td>-1</td>\n",
              "      <td>Naruto</td>\n",
              "      <td>Action, Comedy, Martial Arts, Shounen, Super Power</td>\n",
              "      <td>TV</td>\n",
              "      <td>220</td>\n",
              "      <td>7.81</td>\n",
              "      <td>683297</td>\n",
              "    </tr>\n",
              "    <tr>\n",
              "      <th>4</th>\n",
              "      <td>10</td>\n",
              "      <td>20</td>\n",
              "      <td>-1</td>\n",
              "      <td>Naruto</td>\n",
              "      <td>Action, Comedy, Martial Arts, Shounen, Super Power</td>\n",
              "      <td>TV</td>\n",
              "      <td>220</td>\n",
              "      <td>7.81</td>\n",
              "      <td>683297</td>\n",
              "    </tr>\n",
              "  </tbody>\n",
              "</table>\n",
              "</div>"
            ],
            "text/plain": [
              "   user_id  anime_id  ratings    name  \\\n",
              "0        1        20       -1  Naruto   \n",
              "1        3        20        8  Naruto   \n",
              "2        5        20        6  Naruto   \n",
              "3        6        20       -1  Naruto   \n",
              "4       10        20       -1  Naruto   \n",
              "\n",
              "                                                genre type episodes  rating  \\\n",
              "0  Action, Comedy, Martial Arts, Shounen, Super Power   TV      220    7.81   \n",
              "1  Action, Comedy, Martial Arts, Shounen, Super Power   TV      220    7.81   \n",
              "2  Action, Comedy, Martial Arts, Shounen, Super Power   TV      220    7.81   \n",
              "3  Action, Comedy, Martial Arts, Shounen, Super Power   TV      220    7.81   \n",
              "4  Action, Comedy, Martial Arts, Shounen, Super Power   TV      220    7.81   \n",
              "\n",
              "   members  \n",
              "0   683297  \n",
              "1   683297  \n",
              "2   683297  \n",
              "3   683297  \n",
              "4   683297  "
            ]
          },
          "metadata": {
            "tags": []
          },
          "execution_count": 11
        }
      ]
    },
    {
      "cell_type": "markdown",
      "metadata": {
        "id": "hNZjpVm59HxN",
        "colab_type": "text"
      },
      "source": [
        "Generally, data is represented in this way. Although this is not a very intuitive way to look at it, it's a pretty efficient way to store data. This is because most viewers haven't seen most anime. \n",
        "\n",
        "When such is the case, there will be a lot of zeros if we try to store it as a matrix of viewers v/s anime. Such matrices are called sparse matrices. There are efficient ways to store such matrices as well, however we would let it pass for the time being. Let's focus on the task at hand now."
      ]
    },
    {
      "cell_type": "code",
      "metadata": {
        "id": "gCeNa3SJ02x-",
        "colab_type": "code",
        "colab": {
          "base_uri": "https://localhost:8080/",
          "height": 581
        },
        "outputId": "84bd31fd-3b64-4695-c0c9-14139944541c"
      },
      "source": [
        "fig, ax = plt.subplots(1, 1, figsize = (15, 8))\n",
        "sns.distplot(data.ratings, ax = ax, kde = False)\n",
        "ax.set_title(\"Histogram of Ratings\", fontsize = 20)\n",
        "plt.tight_layout();"
      ],
      "execution_count": 12,
      "outputs": [
        {
          "output_type": "display_data",
          "data": {
            "image/png": "[encoded data removed]",
            "text/plain": [
              "<Figure size 1080x576 with 1 Axes>"
            ]
          },
          "metadata": {
            "tags": [],
            "needs_background": "light"
          }
        }
      ]
    },
    {
      "cell_type": "markdown",
      "metadata": {
        "id": "LR6Syk8a024B",
        "colab_type": "text"
      },
      "source": [
        "We can observe that there are relatively few users who have rated on middle grounds. Most users either liked or disliked anime quite strongly which is evident from the huge frequency of likes and dislikes for ratings like -1 and 8. "
      ]
    },
    {
      "cell_type": "markdown",
      "metadata": {
        "id": "-LMC7VVc0295",
        "colab_type": "text"
      },
      "source": [
        "We need to load the data in a specific format for feeding it to the neural network. The collab subpackage of fastai contains a module called `CollabDataLoaders` which we can use in order to load the data.\n",
        "\n",
        "Particularly since we're loading the data from a pandas dataframe, we'll be using the from_df factory method to load the data."
      ]
    },
    {
      "cell_type": "code",
      "metadata": {
        "id": "mPLU9o1a03Bg",
        "colab_type": "code",
        "colab": {
          "base_uri": "https://localhost:8080/",
          "height": 347
        },
        "outputId": "eb35a8e9-ab61-4315-c90a-abca8bdfeb3f"
      },
      "source": [
        "dloader = CollabDataLoaders.from_df(final_data, user_name = \"user_id\", item_name = \"name\", rating_name = \"ratings\", bs=64)\n",
        "dloader.show_batch()"
      ],
      "execution_count": 13,
      "outputs": [
        {
          "output_type": "display_data",
          "data": {
            "text/html": [
              "<table border=\"1\" class=\"dataframe\">\n",
              "  <thead>\n",
              "    <tr style=\"text-align: right;\">\n",
              "      <th></th>\n",
              "      <th>user_id</th>\n",
              "      <th>name</th>\n",
              "      <th>ratings</th>\n",
              "    </tr>\n",
              "  </thead>\n",
              "  <tbody>\n",
              "    <tr>\n",
              "      <th>0</th>\n",
              "      <td>61441</td>\n",
              "      <td>Aa! Megami-sama!: Sorezore no Tsubasa</td>\n",
              "      <td>7</td>\n",
              "    </tr>\n",
              "    <tr>\n",
              "      <th>1</th>\n",
              "      <td>50017</td>\n",
              "      <td>xxxHOLiC Kei</td>\n",
              "      <td>10</td>\n",
              "    </tr>\n",
              "    <tr>\n",
              "      <th>2</th>\n",
              "      <td>64664</td>\n",
              "      <td>Nurarihyon no Mago: Sennen Makyou</td>\n",
              "      <td>9</td>\n",
              "    </tr>\n",
              "    <tr>\n",
              "      <th>3</th>\n",
              "      <td>14423</td>\n",
              "      <td>One Punch Man: Road to Hero</td>\n",
              "      <td>-1</td>\n",
              "    </tr>\n",
              "    <tr>\n",
              "      <th>4</th>\n",
              "      <td>6162</td>\n",
              "      <td>Kuroshitsuji</td>\n",
              "      <td>10</td>\n",
              "    </tr>\n",
              "    <tr>\n",
              "      <th>5</th>\n",
              "      <td>62483</td>\n",
              "      <td>Air Gear</td>\n",
              "      <td>9</td>\n",
              "    </tr>\n",
              "    <tr>\n",
              "      <th>6</th>\n",
              "      <td>4339</td>\n",
              "      <td>Onegai☆Teacher</td>\n",
              "      <td>6</td>\n",
              "    </tr>\n",
              "    <tr>\n",
              "      <th>7</th>\n",
              "      <td>26383</td>\n",
              "      <td>Lovely★Complex</td>\n",
              "      <td>9</td>\n",
              "    </tr>\n",
              "    <tr>\n",
              "      <th>8</th>\n",
              "      <td>43953</td>\n",
              "      <td>Nisekoi</td>\n",
              "      <td>5</td>\n",
              "    </tr>\n",
              "    <tr>\n",
              "      <th>9</th>\n",
              "      <td>1563</td>\n",
              "      <td>IS: Infinite Stratos 2</td>\n",
              "      <td>-1</td>\n",
              "    </tr>\n",
              "  </tbody>\n",
              "</table>"
            ],
            "text/plain": [
              "<IPython.core.display.HTML object>"
            ]
          },
          "metadata": {
            "tags": []
          }
        }
      ]
    },
    {
      "cell_type": "markdown",
      "metadata": {
        "id": "JI4akQN803FK",
        "colab_type": "text"
      },
      "source": [
        "So we create a DataLoader above. Since the names of columns could be application specific, we need to specify the names of user, item and ratings columns respectively. \n",
        "\n",
        "The argument valid_pct stands for validation data percentage. Once we build a model, it's actual sanctity is gauged by how well it performs on this data. Our model will be trained using 90% of the available data and tested on this 10% of validation data which it has never seen before. Only when our model performs well on both the training and validation sets, can we say that we've done a decent job.\n",
        "\n",
        "With this `dloader` object, we can see what all it contains."
      ]
    },
    {
      "cell_type": "code",
      "metadata": {
        "id": "k-I1E5B_027d",
        "colab_type": "code",
        "colab": {
          "base_uri": "https://localhost:8080/",
          "height": 86
        },
        "outputId": "f3c8f574-c6b2-4791-ded1-011e3c4ebc64"
      },
      "source": [
        "print(dloader.classes)\n",
        "print(f\"Number of viewers: {len(dloader.classes['user_id'])}\")\n",
        "print(f\"Number of anime: {len(dloader.classes['name'])}\")"
      ],
      "execution_count": 14,
      "outputs": [
        {
          "output_type": "stream",
          "text": [
            "{'user_id': (#72947) ['#na#',1,2,3,4,5,6,7,8,9...], 'name': (#11197) ['#na#','&quot;0&quot;','&quot;Aesop&quot; no Ohanashi yori: Ushi to Kaeru, Yokubatta Inu','&quot;Bungaku Shoujo&quot; Kyou no Oyatsu: Hatsukoi','&quot;Bungaku Shoujo&quot; Memoire','&quot;Bungaku Shoujo&quot; Movie','&quot;Eiji&quot;','.hack//G.U. Returner','.hack//G.U. Trilogy','.hack//G.U. Trilogy: Parody Mode'...]}\n",
            "Number of viewers: 72947\n",
            "Number of anime: 11197\n"
          ],
          "name": "stdout"
        }
      ]
    },
    {
      "cell_type": "markdown",
      "metadata": {
        "id": "M2Ejeaop022Z",
        "colab_type": "text"
      },
      "source": [
        "Now that we have processed the data and have it ready for building our model, let's get to actually building the model.\n",
        "\n",
        "\n",
        "## Embedding Dot Bias Model\n",
        "\n",
        "This model is a plain model just like we discussed in `The basis` section above. Both viewers and anime are represented as vectors and we get matrices for the same since there's many viewers and many anime. Next, we do the dot product on them and compare them with our actual viewer ratings using the loss function Mean Squared Error which we aim to reduce. Eventually the model will become good at representing both the viewers and anime in this n-dimensional space. \n",
        "\n",
        "Let's create a simple model and train it and evaluate it's performance."
      ]
    },
    {
      "cell_type": "code",
      "metadata": {
        "id": "xWG9Mg5002sa",
        "colab_type": "code",
        "colab": {}
      },
      "source": [
        "# This is an empirical trick which is meant to make the embedding better\n",
        "# We basically constrain the output of dot product between a slightly \n",
        "# expanded range in order to improve the quality of embeddings\n",
        "min_rating = final_data.ratings.min() - 0.5\n",
        "max_rating = final_data.ratings.max() + 0.5\n",
        "\n",
        "# Representing every user and every movie as a vector of length 60\n",
        "learn = collab_learner(dls = dloader, n_factors = 60, y_range = (min_rating, max_rating))"
      ],
      "execution_count": 16,
      "outputs": []
    },
    {
      "cell_type": "code",
      "metadata": {
        "id": "L6wg3pO7A-Ft",
        "colab_type": "code",
        "colab": {
          "base_uri": "https://localhost:8080/",
          "height": 305
        },
        "outputId": "ca6c18c7-8abf-4718-fa64-3cd7c32ba358"
      },
      "source": [
        "# Find a proper learning rate\n",
        "learn.lr_find()"
      ],
      "execution_count": 18,
      "outputs": [
        {
          "output_type": "display_data",
          "data": {
            "text/html": [
              ""
            ],
            "text/plain": [
              "<IPython.core.display.HTML object>"
            ]
          },
          "metadata": {
            "tags": []
          }
        },
        {
          "output_type": "execute_result",
          "data": {
            "text/plain": [
              "SuggestedLRs(lr_min=0.13182567358016967, lr_steep=2.2908675418875646e-06)"
            ]
          },
          "metadata": {
            "tags": []
          },
          "execution_count": 18
        },
        {
          "output_type": "display_data",
          "data": {
            "image/png": "[encoded data removed]",
            "text/plain": [
              "<Figure size 432x288 with 1 Axes>"
            ]
          },
          "metadata": {
            "tags": [],
            "needs_background": "light"
          }
        }
      ]
    },
    {
      "cell_type": "code",
      "metadata": {
        "id": "zI8H1iDMB2q1",
        "colab_type": "code",
        "colab": {
          "base_uri": "https://localhost:8080/",
          "height": 197
        },
        "outputId": "53014fd5-2a7f-4d9a-9712-c87928625a89"
      },
      "source": [
        "# Run the learner for 5 episodes with a small weight decay for regularization\n",
        "learn.fit_one_cycle(n_epoch = 5, lr_max = 5e-3, wd = 0.01)"
      ],
      "execution_count": 19,
      "outputs": [
        {
          "output_type": "display_data",
          "data": {
            "text/html": [
              "<table border=\"1\" class=\"dataframe\">\n",
              "  <thead>\n",
              "    <tr style=\"text-align: left;\">\n",
              "      <th>epoch</th>\n",
              "      <th>train_loss</th>\n",
              "      <th>valid_loss</th>\n",
              "      <th>time</th>\n",
              "    </tr>\n",
              "  </thead>\n",
              "  <tbody>\n",
              "    <tr>\n",
              "      <td>0</td>\n",
              "      <td>5.499388</td>\n",
              "      <td>5.571232</td>\n",
              "      <td>16:40</td>\n",
              "    </tr>\n",
              "    <tr>\n",
              "      <td>1</td>\n",
              "      <td>5.504962</td>\n",
              "      <td>5.490714</td>\n",
              "      <td>16:52</td>\n",
              "    </tr>\n",
              "    <tr>\n",
              "      <td>2</td>\n",
              "      <td>4.616600</td>\n",
              "      <td>5.018493</td>\n",
              "      <td>16:57</td>\n",
              "    </tr>\n",
              "    <tr>\n",
              "      <td>3</td>\n",
              "      <td>4.321753</td>\n",
              "      <td>4.519671</td>\n",
              "      <td>16:47</td>\n",
              "    </tr>\n",
              "    <tr>\n",
              "      <td>4</td>\n",
              "      <td>3.882540</td>\n",
              "      <td>4.353109</td>\n",
              "      <td>16:52</td>\n",
              "    </tr>\n",
              "  </tbody>\n",
              "</table>"
            ],
            "text/plain": [
              "<IPython.core.display.HTML object>"
            ]
          },
          "metadata": {
            "tags": []
          }
        }
      ]
    },
    {
      "cell_type": "code",
      "metadata": {
        "id": "aOEplfRMFAYU",
        "colab_type": "code",
        "colab": {}
      },
      "source": [
        "# Save the model for inference later on\n",
        "learn.export(\"./Embedding_Dot_Bias_Recommender_model.pkl\")"
      ],
      "execution_count": 20,
      "outputs": []
    },
    {
      "cell_type": "code",
      "metadata": {
        "id": "D5WnZ2D-nsGF",
        "colab_type": "code",
        "colab": {}
      },
      "source": [
        "learn = load_learner(\"./Embedding_Dot_Bias_Recommender_model.pkl\", cpu = False)"
      ],
      "execution_count": 15,
      "outputs": []
    },
    {
      "cell_type": "markdown",
      "metadata": {
        "id": "qWNBmpExCIvX",
        "colab_type": "text"
      },
      "source": [
        "# The Neural Network Model\n",
        "\n",
        "On top of embedding dot-bias model we can build an MLP by adding fully connected layers for enhancing the complexity of models. Basically the user and movie vectors are concatenated and passed through a series of neural networks before taking the final dot product. Although in most of the cases, the former performs reasonably well, this neural network model also does work well in some other cases.\n",
        "\n",
        "It's a matter of performing trials and looking at the best performing network on evaluation of validation data that we can come to a conclusion on which model performs better. Let's build a model using Neural Networks as well and test the performance on that."
      ]
    },
    {
      "cell_type": "code",
      "metadata": {
        "id": "q1BnlEPrDs72",
        "colab_type": "code",
        "colab": {
          "base_uri": "https://localhost:8080/",
          "height": 307
        },
        "outputId": "b6187b63-0903-4d43-d746-42ef0c51d73b"
      },
      "source": [
        "# Representing every user and every movie as a vector of length 60\n",
        "# Add two layers in the network each with 120 neurons and 50 neurons respectively\n",
        "learn_nn = collab_learner(dls = dloader, use_nn = True, emb_szs = {\"user_id\":60, \"anime_id\":60}, y_range = (min_rating, max_rating), layers = [120, 50])\n",
        "\n",
        "# Find an appropriate learning rate\n",
        "learn_nn.lr_find()"
      ],
      "execution_count": null,
      "outputs": [
        {
          "output_type": "display_data",
          "data": {
            "text/html": [
              ""
            ],
            "text/plain": [
              "<IPython.core.display.HTML object>"
            ]
          },
          "metadata": {
            "tags": []
          }
        },
        {
          "output_type": "execute_result",
          "data": {
            "text/plain": [
              "SuggestedLRs(lr_min=0.002754228748381138, lr_steep=9.12010818865383e-07)"
            ]
          },
          "metadata": {
            "tags": []
          },
          "execution_count": 16
        },
        {
          "output_type": "display_data",
          "data": {
            "image/png": "[encoded data removed]",
            "text/plain": [
              "<Figure size 432x288 with 1 Axes>"
            ]
          },
          "metadata": {
            "tags": [],
            "needs_background": "light"
          }
        }
      ]
    },
    {
      "cell_type": "code",
      "metadata": {
        "id": "Ti7aRjyGEGXd",
        "colab_type": "code",
        "colab": {
          "base_uri": "https://localhost:8080/",
          "height": 198
        },
        "outputId": "3640a821-93bf-4d8f-f361-561f85fa1153"
      },
      "source": [
        "# Run the learner for 5 episodes with a small weight decay for regularization\n",
        "learn_nn.fit_one_cycle(n_epoch = 5, lr_max = 1e-3, wd = 1e-2)"
      ],
      "execution_count": null,
      "outputs": [
        {
          "output_type": "display_data",
          "data": {
            "text/html": [
              "<table border=\"1\" class=\"dataframe\">\n",
              "  <thead>\n",
              "    <tr style=\"text-align: left;\">\n",
              "      <th>epoch</th>\n",
              "      <th>train_loss</th>\n",
              "      <th>valid_loss</th>\n",
              "      <th>time</th>\n",
              "    </tr>\n",
              "  </thead>\n",
              "  <tbody>\n",
              "    <tr>\n",
              "      <td>0</td>\n",
              "      <td>5.134985</td>\n",
              "      <td>5.048160</td>\n",
              "      <td>50:22</td>\n",
              "    </tr>\n",
              "    <tr>\n",
              "      <td>1</td>\n",
              "      <td>4.815895</td>\n",
              "      <td>4.820455</td>\n",
              "      <td>50:14</td>\n",
              "    </tr>\n",
              "    <tr>\n",
              "      <td>2</td>\n",
              "      <td>4.356618</td>\n",
              "      <td>4.604418</td>\n",
              "      <td>50:16</td>\n",
              "    </tr>\n",
              "    <tr>\n",
              "      <td>3</td>\n",
              "      <td>4.869538</td>\n",
              "      <td>4.375974</td>\n",
              "      <td>50:26</td>\n",
              "    </tr>\n",
              "    <tr>\n",
              "      <td>4</td>\n",
              "      <td>4.028659</td>\n",
              "      <td>4.290595</td>\n",
              "      <td>49:51</td>\n",
              "    </tr>\n",
              "  </tbody>\n",
              "</table>"
            ],
            "text/plain": [
              "<IPython.core.display.HTML object>"
            ]
          },
          "metadata": {
            "tags": []
          }
        }
      ]
    },
    {
      "cell_type": "code",
      "metadata": {
        "id": "2it1WUnrOV3n",
        "colab_type": "code",
        "colab": {}
      },
      "source": [
        "# Save the model for inference later on\n",
        "learn_nn.export(\"./NN_Recommender_model.pkl\")"
      ],
      "execution_count": null,
      "outputs": []
    },
    {
      "cell_type": "code",
      "metadata": {
        "id": "oJU6nlKawunl",
        "colab_type": "code",
        "colab": {}
      },
      "source": [
        "learn_nn = load_learner(\"./NN_Recommender_model.pkl\", cpu = False)"
      ],
      "execution_count": null,
      "outputs": []
    },
    {
      "cell_type": "markdown",
      "metadata": {
        "id": "mnpC_APCELy9",
        "colab_type": "text"
      },
      "source": [
        "# The Most Awaited Part - Interpretation & Recommendation\n",
        "\n",
        "Now that we have a model ready, let's try to interpret it, use it and make some suggestions/recommendations.\n",
        "\n",
        "## Understanding Anime biases and weights/embeddings\n",
        "\n",
        "Let's try to understand the anime embeddings for the Embedding dot-bias model. First, let's see what all layers are there in the model."
      ]
    },
    {
      "cell_type": "code",
      "metadata": {
        "id": "-i85RHBrPT0o",
        "colab_type": "code",
        "colab": {
          "base_uri": "https://localhost:8080/",
          "height": 116
        },
        "outputId": "205954be-099a-45a7-eacd-e16fe92f07e0"
      },
      "source": [
        "learn.model"
      ],
      "execution_count": 16,
      "outputs": [
        {
          "output_type": "execute_result",
          "data": {
            "text/plain": [
              "EmbeddingDotBias(\n",
              "  (u_weight): Embedding(72950, 60)\n",
              "  (i_weight): Embedding(11197, 60)\n",
              "  (u_bias): Embedding(72950, 1)\n",
              "  (i_bias): Embedding(11197, 1)\n",
              ")"
            ]
          },
          "metadata": {
            "tags": []
          },
          "execution_count": 16
        }
      ]
    },
    {
      "cell_type": "markdown",
      "metadata": {
        "id": "h0PCXOsPRe7N",
        "colab_type": "text"
      },
      "source": [
        "As seen, there are two components for viewers and two for anime respectively, one being the vector and another one being the bias term.\n",
        "\n",
        "Let's order the anime which by the most rated ones being the top ones (not rated highly but the most rated i.e. the viewers watched and rated the anime)."
      ]
    },
    {
      "cell_type": "code",
      "metadata": {
        "id": "mSk2NRStKaIw",
        "colab_type": "code",
        "colab": {
          "base_uri": "https://localhost:8080/",
          "height": 50
        },
        "outputId": "1dae27b1-be8f-452d-916c-7ce0432d2ff4"
      },
      "source": [
        "g = final_data.groupby(by = ['name'])['rating'].count()\n",
        "most_rated_anime = g.sort_values(ascending=False).index.values\n",
        "most_rated_anime[:10]"
      ],
      "execution_count": 17,
      "outputs": [
        {
          "output_type": "execute_result",
          "data": {
            "text/plain": [
              "array(['Death Note', 'Sword Art Online', 'Shingeki no Kyojin', 'Code Geass: Hangyaku no Lelouch', 'Elfen Lied', 'Angel Beats!', 'Naruto', 'Fullmetal Alchemist', 'Fullmetal Alchemist: Brotherhood',\n",
              "       'Toradora!'], dtype=object)"
            ]
          },
          "metadata": {
            "tags": []
          },
          "execution_count": 17
        }
      ]
    },
    {
      "cell_type": "code",
      "metadata": {
        "id": "qV1vtVmkLQvB",
        "colab_type": "code",
        "colab": {}
      },
      "source": [
        "f = lambda x: x in most_rated_anime\n",
        "rtings = anime_data[anime_data.name.apply(lambda x: f(x))][[\"name\", \"rating\"]].values\n",
        "rtings_dict = {x[0]:x[1] for x in rtings}\n",
        "anime_ratings = [rtings_dict[x] for x in most_rated_anime]"
      ],
      "execution_count": 18,
      "outputs": []
    },
    {
      "cell_type": "markdown",
      "metadata": {
        "id": "REb4o32p2Jks",
        "colab_type": "text"
      },
      "source": [
        "Let's check the biases for these anime and compare them against the ratings for these anime. Similarly, let's check the biases for the worst anime and compare them against the ratings for the same.\n"
      ]
    },
    {
      "cell_type": "markdown",
      "metadata": {
        "id": "inpbti362JsT",
        "colab_type": "text"
      },
      "source": [
        "Now, let's compare the top 10 out of these and see the results."
      ]
    },
    {
      "cell_type": "code",
      "metadata": {
        "id": "E9zOAwKUG6So",
        "colab_type": "code",
        "colab": {}
      },
      "source": [
        "biases = learn.model.bias(arr = most_rated_anime, is_item = True)"
      ],
      "execution_count": 19,
      "outputs": []
    },
    {
      "cell_type": "code",
      "metadata": {
        "id": "a8YB09Wg2Jvd",
        "colab_type": "code",
        "colab": {
          "base_uri": "https://localhost:8080/",
          "height": 197
        },
        "outputId": "24653dbe-900a-44eb-f82f-f35e2b177149"
      },
      "source": [
        "bias_rating_data = pd.DataFrame({\"Name\": most_rated_anime, \"Ratings\": anime_ratings, \"Biases\": biases})\n",
        "bias_rating_data.sort_values(by = [\"Ratings\"], ascending = False).head()"
      ],
      "execution_count": 20,
      "outputs": [
        {
          "output_type": "execute_result",
          "data": {
            "text/html": [
              "<div>\n",
              "<style scoped>\n",
              "    .dataframe tbody tr th:only-of-type {\n",
              "        vertical-align: middle;\n",
              "    }\n",
              "\n",
              "    .dataframe tbody tr th {\n",
              "        vertical-align: top;\n",
              "    }\n",
              "\n",
              "    .dataframe thead th {\n",
              "        text-align: right;\n",
              "    }\n",
              "</style>\n",
              "<table border=\"1\" class=\"dataframe\">\n",
              "  <thead>\n",
              "    <tr style=\"text-align: right;\">\n",
              "      <th></th>\n",
              "      <th>Name</th>\n",
              "      <th>Ratings</th>\n",
              "      <th>Biases</th>\n",
              "    </tr>\n",
              "  </thead>\n",
              "  <tbody>\n",
              "    <tr>\n",
              "      <th>11160</th>\n",
              "      <td>Mogura no Motoro</td>\n",
              "      <td>9.50</td>\n",
              "      <td>-5.309512e-09</td>\n",
              "    </tr>\n",
              "    <tr>\n",
              "      <th>956</th>\n",
              "      <td>Kimi no Na wa.</td>\n",
              "      <td>9.37</td>\n",
              "      <td>1.272702e+00</td>\n",
              "    </tr>\n",
              "    <tr>\n",
              "      <th>8</th>\n",
              "      <td>Fullmetal Alchemist: Brotherhood</td>\n",
              "      <td>9.26</td>\n",
              "      <td>1.246769e+00</td>\n",
              "    </tr>\n",
              "    <tr>\n",
              "      <th>10085</th>\n",
              "      <td>Yakusoku: Africa Mizu to Midori</td>\n",
              "      <td>9.25</td>\n",
              "      <td>-7.418488e-03</td>\n",
              "    </tr>\n",
              "    <tr>\n",
              "      <th>1379</th>\n",
              "      <td>Gintama°</td>\n",
              "      <td>9.25</td>\n",
              "      <td>1.112069e+00</td>\n",
              "    </tr>\n",
              "  </tbody>\n",
              "</table>\n",
              "</div>"
            ],
            "text/plain": [
              "                                   Name  Ratings        Biases\n",
              "11160                  Mogura no Motoro     9.50 -5.309512e-09\n",
              "956                      Kimi no Na wa.     9.37  1.272702e+00\n",
              "8      Fullmetal Alchemist: Brotherhood     9.26  1.246769e+00\n",
              "10085   Yakusoku: Africa Mizu to Midori     9.25 -7.418488e-03\n",
              "1379                           Gintama°     9.25  1.112069e+00"
            ]
          },
          "metadata": {
            "tags": []
          },
          "execution_count": 20
        }
      ]
    },
    {
      "cell_type": "code",
      "metadata": {
        "id": "FFFgjuMuNeTM",
        "colab_type": "code",
        "colab": {
          "base_uri": "https://localhost:8080/",
          "height": 197
        },
        "outputId": "5ec2fbd9-5938-4632-f412-252eb614c319"
      },
      "source": [
        "bias_rating_data.sort_values(by = [\"Ratings\"], ascending = True).head()"
      ],
      "execution_count": 21,
      "outputs": [
        {
          "output_type": "execute_result",
          "data": {
            "text/html": [
              "<div>\n",
              "<style scoped>\n",
              "    .dataframe tbody tr th:only-of-type {\n",
              "        vertical-align: middle;\n",
              "    }\n",
              "\n",
              "    .dataframe tbody tr th {\n",
              "        vertical-align: top;\n",
              "    }\n",
              "\n",
              "    .dataframe thead th {\n",
              "        text-align: right;\n",
              "    }\n",
              "</style>\n",
              "<table border=\"1\" class=\"dataframe\">\n",
              "  <thead>\n",
              "    <tr style=\"text-align: right;\">\n",
              "      <th></th>\n",
              "      <th>Name</th>\n",
              "      <th>Ratings</th>\n",
              "      <th>Biases</th>\n",
              "    </tr>\n",
              "  </thead>\n",
              "  <tbody>\n",
              "    <tr>\n",
              "      <th>10587</th>\n",
              "      <td>Platonic Chain: Ansatsu Jikkouchuu</td>\n",
              "      <td>1.67</td>\n",
              "      <td>-0.006648</td>\n",
              "    </tr>\n",
              "    <tr>\n",
              "      <th>9740</th>\n",
              "      <td>Hi Gekiga Ukiyoe Senya Ichiya</td>\n",
              "      <td>1.92</td>\n",
              "      <td>-0.016316</td>\n",
              "    </tr>\n",
              "    <tr>\n",
              "      <th>3384</th>\n",
              "      <td>Tenkuu Danzai Skelter+Heaven</td>\n",
              "      <td>2.00</td>\n",
              "      <td>-0.709954</td>\n",
              "    </tr>\n",
              "    <tr>\n",
              "      <th>4722</th>\n",
              "      <td>Utsu Musume Sayuri</td>\n",
              "      <td>2.14</td>\n",
              "      <td>-0.454678</td>\n",
              "    </tr>\n",
              "    <tr>\n",
              "      <th>1581</th>\n",
              "      <td>Hametsu no Mars</td>\n",
              "      <td>2.37</td>\n",
              "      <td>-0.895933</td>\n",
              "    </tr>\n",
              "  </tbody>\n",
              "</table>\n",
              "</div>"
            ],
            "text/plain": [
              "                                     Name  Ratings    Biases\n",
              "10587  Platonic Chain: Ansatsu Jikkouchuu     1.67 -0.006648\n",
              "9740        Hi Gekiga Ukiyoe Senya Ichiya     1.92 -0.016316\n",
              "3384         Tenkuu Danzai Skelter+Heaven     2.00 -0.709954\n",
              "4722                   Utsu Musume Sayuri     2.14 -0.454678\n",
              "1581                      Hametsu no Mars     2.37 -0.895933"
            ]
          },
          "metadata": {
            "tags": []
          },
          "execution_count": 21
        }
      ]
    },
    {
      "cell_type": "markdown",
      "metadata": {
        "id": "Fb3paTXpC3cr",
        "colab_type": "text"
      },
      "source": [
        "Looking at this it is evident that biases capture the ratings relations quite well. Now let's turn our attention to weights of the models.\n",
        "\n",
        "As we discussed, the weights are nothing but vectors learned by the models. Let's find out the weights of top 100 anime, apply a PCA on them to reduce their dimensionality and then compare them visually on a 2-Dimensional plot. PCA is a dimensionality reduction technique used to compress vector/matrices and is commonly applied particularly when we have to visualize large dimensional data or if we face the Curse of Dimensionality problem in datasets with numerous features or columns. "
      ]
    },
    {
      "cell_type": "code",
      "metadata": {
        "id": "ZqVPlACFDtDh",
        "colab_type": "code",
        "colab": {}
      },
      "source": [
        "most_rated_anime_weights = learn.model.weight(most_rated_anime, is_item = True)\n",
        "most_rated_anime_weights_compressed = most_rated_anime_weights.pca(3).T"
      ],
      "execution_count": 22,
      "outputs": []
    },
    {
      "cell_type": "code",
      "metadata": {
        "id": "PzoQ7flFKvD-",
        "colab_type": "code",
        "colab": {
          "base_uri": "https://localhost:8080/",
          "height": 33
        },
        "outputId": "74bb3fc9-b071-424b-ea42-048db9dfcf7d"
      },
      "source": [
        "most_rated_anime_weights_compressed.shape"
      ],
      "execution_count": 23,
      "outputs": [
        {
          "output_type": "execute_result",
          "data": {
            "text/plain": [
              "torch.Size([3, 11196])"
            ]
          },
          "metadata": {
            "tags": []
          },
          "execution_count": 23
        }
      ]
    },
    {
      "cell_type": "code",
      "metadata": {
        "id": "9EqE6KYlEWMy",
        "colab_type": "code",
        "colab": {
          "base_uri": "https://localhost:8080/",
          "height": 865
        },
        "outputId": "78417f87-b81e-4211-ae93-f760b963f2c1"
      },
      "source": [
        "plot_n = 50\n",
        "idxs = list(range(plot_n))\n",
        "\n",
        "X = most_rated_anime_weights_compressed[0,:plot_n]\n",
        "Y = most_rated_anime_weights_compressed[1,:plot_n]\n",
        "\n",
        "plt.figure(figsize=(20,15))\n",
        "plt.scatter(X, Y)\n",
        "for i, x, y in zip(most_rated_anime[idxs], X, Y):\n",
        "    plt.text(x, y, i, color = np.random.rand(3) * 0.8, fontsize=11)\n",
        "# plt.ylim(-0.0005,0.0005)\n",
        "plt.show()"
      ],
      "execution_count": 24,
      "outputs": [
        {
          "output_type": "display_data",
          "data": {
            "image/png": "[encoded data removed]",
            "text/plain": [
              "<Figure size 1440x1080 with 1 Axes>"
            ]
          },
          "metadata": {
            "tags": [],
            "needs_background": "light"
          }
        }
      ]
    },
    {
      "cell_type": "markdown",
      "metadata": {
        "id": "ythk2SyfL9wQ",
        "colab_type": "text"
      },
      "source": [
        "Now let's test the hypothesis about Oregairu, Hyouka and Tokyo Ghoul"
      ]
    },
    {
      "cell_type": "code",
      "metadata": {
        "id": "ybsoCCwJMkR4",
        "colab_type": "code",
        "colab": {}
      },
      "source": [
        "TG = learn.model.weight([\"Tokyo Ghoul\"], is_item = True)\n",
        "Oregairu = learn.model.weight([\"Yahari Ore no Seishun Love Comedy wa Machigatteiru.\"], is_item = True)\n",
        "Hyouka = learn.model.weight([\"Hyouka\"], is_item = True)"
      ],
      "execution_count": 25,
      "outputs": []
    },
    {
      "cell_type": "code",
      "metadata": {
        "id": "adr0RGZJMjCO",
        "colab_type": "code",
        "colab": {
          "base_uri": "https://localhost:8080/",
          "height": 33
        },
        "outputId": "06fc4bdb-e24d-4184-84d9-5961a76fc9e8"
      },
      "source": [
        "TG_Oregairu = np.dot(TG.numpy(), Oregairu.numpy().T)[0][0]\n",
        "print(f\"Similarity between Tokyo Ghoul and Oregairu: {np.round(TG_Oregairu, 2)}\")"
      ],
      "execution_count": 26,
      "outputs": [
        {
          "output_type": "stream",
          "text": [
            "Similarity between Tokyo Ghoul and Oregairu: 2.5199999809265137\n"
          ],
          "name": "stdout"
        }
      ]
    },
    {
      "cell_type": "code",
      "metadata": {
        "id": "jDBo_rTXMjHB",
        "colab_type": "code",
        "colab": {
          "base_uri": "https://localhost:8080/",
          "height": 33
        },
        "outputId": "69144b33-21ed-4cce-b01e-a6f2f4bd8432"
      },
      "source": [
        "Oregairu_Hyouka = np.dot(Oregairu.numpy(), Hyouka.numpy().T)[0][0]\n",
        "print(f\"Similarity between Hyouka and Oregairu: {np.round(Oregairu_Hyouka, 2)}\")"
      ],
      "execution_count": 27,
      "outputs": [
        {
          "output_type": "stream",
          "text": [
            "Similarity between Hyouka and Oregairu: 4.159999847412109\n"
          ],
          "name": "stdout"
        }
      ]
    },
    {
      "cell_type": "code",
      "metadata": {
        "id": "nuiPcIgOMjO4",
        "colab_type": "code",
        "colab": {
          "base_uri": "https://localhost:8080/",
          "height": 33
        },
        "outputId": "db9b31d8-5478-4e0c-9b0b-11670a8a548c"
      },
      "source": [
        "TG_Hyouka = np.dot(TG.numpy(), Hyouka.numpy().T)[0][0]\n",
        "print(f\"Similarity between Hyouka and Tokyo Ghoul: {np.round(TG_Hyouka, 2)}\")"
      ],
      "execution_count": 28,
      "outputs": [
        {
          "output_type": "stream",
          "text": [
            "Similarity between Hyouka and Tokyo Ghoul: 2.509999990463257\n"
          ],
          "name": "stdout"
        }
      ]
    },
    {
      "cell_type": "markdown",
      "metadata": {
        "id": "w2lewLXQNm_l",
        "colab_type": "text"
      },
      "source": [
        "## Viewer analysis\n",
        "\n",
        "Let's sample a user at random from the embedding and see it's most closest and most farthest neighbour in terms of vector embeddings from amongst the first 200 items."
      ]
    },
    {
      "cell_type": "code",
      "metadata": {
        "id": "lIbK81CGqucE",
        "colab_type": "code",
        "colab": {}
      },
      "source": [
        "all_users = list(final_data.user_id)"
      ],
      "execution_count": 52,
      "outputs": []
    },
    {
      "cell_type": "code",
      "metadata": {
        "id": "pz6QXMOBqaXG",
        "colab_type": "code",
        "colab": {}
      },
      "source": [
        "np.random.seed(0)\n",
        "random_user = random.choice(all_users)\n",
        "random_user"
      ],
      "execution_count": null,
      "outputs": []
    },
    {
      "cell_type": "code",
      "metadata": {
        "id": "WY0h3Onxqhal",
        "colab_type": "code",
        "colab": {}
      },
      "source": [
        "random_user_weight = learn.model.weight([random_user], is_item = False).cpu().numpy()"
      ],
      "execution_count": 63,
      "outputs": []
    },
    {
      "cell_type": "code",
      "metadata": {
        "id": "6558Uxtx5M2Z",
        "colab_type": "code",
        "colab": {}
      },
      "source": [
        "users = dloader.train_ds.xs.user_id[:200]\n",
        "user_weights = learn.model.weight(users, is_item = False).cpu().numpy()"
      ],
      "execution_count": 122,
      "outputs": []
    },
    {
      "cell_type": "code",
      "metadata": {
        "id": "zNT8i0MZqoSH",
        "colab_type": "code",
        "colab": {}
      },
      "source": [
        "user_distances = {}\n",
        "for u, w in zip(users, user_weights):\n",
        "    user_distances[u] = np.dot(random_user_weight, w.T)"
      ],
      "execution_count": 71,
      "outputs": []
    },
    {
      "cell_type": "code",
      "metadata": {
        "id": "zmTbpDBTqoWX",
        "colab_type": "code",
        "colab": {}
      },
      "source": [
        "ranked_users = sorted(user_distances, key = lambda x: user_distances[x], reverse = True)\n",
        "most_similar_user = ranked_users[0]\n",
        "most_different_user = ranked_users[-1]"
      ],
      "execution_count": 73,
      "outputs": []
    },
    {
      "cell_type": "code",
      "metadata": {
        "id": "h4HHFLLq-2af",
        "colab_type": "code",
        "colab": {}
      },
      "source": [
        "most_similar_user_weights = learn.model.weight([most_similar_user], is_item = False).cpu().numpy()\n",
        "most_diff_user_weights = learn.model.weight([most_different_user], is_item = False).cpu().numpy()"
      ],
      "execution_count": 100,
      "outputs": []
    },
    {
      "cell_type": "code",
      "metadata": {
        "id": "Fxirnel-qoZk",
        "colab_type": "code",
        "colab": {}
      },
      "source": [
        "most_rated_anime_weights = most_rated_anime_weights.cpu().numpy()"
      ],
      "execution_count": 103,
      "outputs": []
    },
    {
      "cell_type": "code",
      "metadata": {
        "id": "rBjmdmll_MOJ",
        "colab_type": "code",
        "colab": {
          "base_uri": "https://localhost:8080/",
          "height": 100
        },
        "outputId": "b31ba556-f9ad-465e-fbed-983376917952"
      },
      "source": [
        "# Find the ranking of anime for the randomly sampled user\n",
        "random_user_anime_order = most_rated_anime_weights.dot(random_user_weight.T).reshape(most_rated_anime_weights.shape[0],).argsort()\n",
        "random_user_anime_named_order = [most_rated_anime[x] for x in random_user_anime_order]\n",
        "top_5 = random_user_anime_named_order[-5:]\n",
        "top_5"
      ],
      "execution_count": 126,
      "outputs": [
        {
          "output_type": "execute_result",
          "data": {
            "text/plain": [
              "['School Days',\n",
              " 'Final Fantasy VII: Advent Children',\n",
              " 'Vampire Knight Guilty',\n",
              " 'Death Note',\n",
              " 'Vampire Knight']"
            ]
          },
          "metadata": {
            "tags": []
          },
          "execution_count": 126
        }
      ]
    },
    {
      "cell_type": "code",
      "metadata": {
        "id": "d89vlqkRA5lm",
        "colab_type": "code",
        "colab": {
          "base_uri": "https://localhost:8080/",
          "height": 100
        },
        "outputId": "6eac1f1f-ece1-4b6c-ec0b-45a2a20a2658"
      },
      "source": [
        "# Find the ranking of anime for the most similar user\n",
        "most_similar_user_anime_order = most_rated_anime_weights.dot(most_similar_user_weights.T).reshape(most_rated_anime_weights.shape[0],).argsort()\n",
        "most_similar_user_anime_named_order = [most_rated_anime[x] for x in most_similar_user_anime_order]\n",
        "top_5 = most_similar_user_anime_named_order[-5:]\n",
        "top_5"
      ],
      "execution_count": 127,
      "outputs": [
        {
          "output_type": "execute_result",
          "data": {
            "text/plain": [
              "['Ao no Exorcist',\n",
              " 'Fullmetal Alchemist',\n",
              " 'Darker than Black: Kuro no Keiyakusha',\n",
              " 'FLCL',\n",
              " 'Soul Eater']"
            ]
          },
          "metadata": {
            "tags": []
          },
          "execution_count": 127
        }
      ]
    },
    {
      "cell_type": "code",
      "metadata": {
        "id": "2U5_y7t2BOvr",
        "colab_type": "code",
        "colab": {
          "base_uri": "https://localhost:8080/",
          "height": 100
        },
        "outputId": "d6c9c600-fb5e-46ca-9b74-2b86ed04bf38"
      },
      "source": [
        "# Find the ranking of anume for the most different user\n",
        "most_diff_user_anime_order = most_rated_anime_weights.dot(most_diff_user_weights.T).reshape(most_rated_anime_weights.shape[0],).argsort()\n",
        "most_diff_user_anime_named_order = [most_rated_anime[x] for x in most_diff_user_anime_order]\n",
        "top_5 = most_diff_user_anime_named_order[-5:]\n",
        "top_5"
      ],
      "execution_count": 128,
      "outputs": [
        {
          "output_type": "execute_result",
          "data": {
            "text/plain": [
              "['Shigatsu wa Kimi no Uso',\n",
              " 'Haikyuu!!',\n",
              " 'No Game No Life',\n",
              " 'Tokyo Ghoul',\n",
              " 'One Punch Man']"
            ]
          },
          "metadata": {
            "tags": []
          },
          "execution_count": 128
        }
      ]
    }
  ]
}