{
  "nbformat": 4,
  "nbformat_minor": 0,
  "metadata": {
    "colab": {
      "name": "AnimeRecommendation.ipynb",
      "provenance": [],
      "collapsed_sections": [],
      "toc_visible": true,
      "mount_file_id": "1xQ-k1g0bhT1_CPpaiNKI0YDe_3wgpXB9",
      "authorship_tag": "ABX9TyPNMudV09ID5o6lyobRKro+",
      "include_colab_link": true
    },
    "kernelspec": {
      "name": "python3",
      "display_name": "Python 3"
    },
    "accelerator": "GPU"
  },
  "cells": [
    {
      "cell_type": "markdown",
      "metadata": {
        "id": "view-in-github",
        "colab_type": "text"
      },
      "source": [
        "<a href=\"https://colab.research.google.com/github/ElisonSherton/Collaborative-Filtering-On-Anime-Dataset/blob/master/AnimeRecommendation.ipynb\" target=\"_parent\"><img src=\"https://colab.research.google.com/assets/colab-badge.svg\" alt=\"Open In Colab\"/></a>"
      ]
    },
    {
      "cell_type": "markdown",
      "metadata": {
        "id": "u9y_UNA_01Vr",
        "colab_type": "text"
      },
      "source": [
        "# Building an Anime Recommendation System using fastai\n",
        "\n",
        "The dataset for this experiment is available on [kaggle here](https://www.kaggle.com/CooperUnion/anime-recommendations-database?select=anime.csv).\n",
        "\n",
        "## Introduction\n",
        "In today's world where data is oil, one way of utiliziing data is to perform the task of suggestion/recommendation for individuals. In this fast paced world where content is created at an astounding pace, viewers like it when they're suggested content similar to what they've seen before. \n",
        "\n",
        "In order to do so, the choices, likes, tastes of the users are recorded in the form of ratings or a score which is typically bound in a finite range (most commonly 0-5 or 0-10) where 0 represents that the user strongly disliked the content and 5 or 10 represent that the user found the content very entertaining and to his liking. \n",
        "\n",
        "Using this data in order to figure out what to next to suggest to a user is what collaborative filtering is all about. In place of user-anime or user-movie it could be anything like consumer-product or user-news article or subscriber-social media posts and so on. \n",
        "\n",
        "The more feedback that is obtained from the user, the more relevent the suggestions become because the algorithm gets to understand the tastes of an individual more and more.\n",
        "\n",
        "There are several ways to perform collaborative filtering and today, we'll be discussing two of them. We'll be using fastai2 which is a library built by Sylvain Gugger and Jeremy Howard which is an awesome interface built on top of PyTorch for performing deep learning experiments. So, without any further ado, let's get started.\n",
        "\n",
        "## The basis\n",
        "In order to perform collaborative filtering, both the user/ subscriber/ consumer and the item/ article/ product are represented as matrices. (terminology here is specific to the application but since we're dealing with anime data, we'll call users as viewers and item as anime respectively.)\n",
        "\n",
        "More precisely, every user is represented as a vector of numeric values and so is every anime. These values are learned by the algorithm to minimize a loss function which is most commonly the Mean Squared Error Loss (MSE). \n",
        "\n",
        "The values learned for the user and anime vectors correspond to an abstract n-dimensional space and really have no human-interpretable meaning. But as an attempt to understand what's really happening, we can think of it this way.\n",
        "\n",
        "Let's say every anime consists of 5 components - romance, comedy, slice of life, harem and action. Then an anime can be represented in the vector space of 5-Dimensions each dimension being one of the above. \n",
        "\n",
        "In that 5-Dimensional world, Oregairu and Hyouka would be closer to each other and Tokyo Ghoul would be relatively far from them. This approach therefore creates a n-dimensional space where all anime that have similar components will be grouped closer than the ones which have different anime.\n",
        "\n",
        "Now, think of the viewer. The viewer vector will on the other hand represent what proportion of every dimension is dear to the user. Let's say the user is a fan of romance and slice of life, then the vector representation of this user will have high numeric values along those dimensions and a smaller numeric value along the remaining dimensions. \n",
        "\n",
        "In order to consolidate the information from both the viewer and anime we resort to using the dot product which is a simple multiplication along the respective vector dimensions followed by an aggregation. Let me explain this using the scenario we considered above. \n",
        "\n",
        "As we can see Hyouka and Oregairu have mostly similar values along all the dimensions and Tokyo Ghoul has pretty different values across all dimensions. Viewer 1 prefers action and slice of life a lot more than other components, so, let's compute the dot product of viewer 1 with all three anime.\n",
        "\n",
        "Viewer 1's dot product with all three anime are 29.2, 26 and 31.8 respectively. This means Viewer 1 likes Tokyo Ghoul the best which is indeed high on action. \n",
        "\n",
        "Viewer 2 on the other hand is into romance and harem. His dot product with all three anime are 47.5, 35.5, 22.5 which means he would like Oregairu the most which is indeed a teenage love comedy! Yukinoshita, Yuigahama, Ishhiki damn even Shizuka, his teacher, seem to have the hots for Hachiman; don't you dare tell me you overlooked the harem in this anime...\n",
        "\n",
        "After that otaku tangent, getting back to the topic at hand, we can see how representing viewers and anime as a vector can prove useful to determine a ranking of how a viewer would like all the anime or which users will like a particular anime and that's a very valuable insight which streaming companies like Netflix are exploiting. \n",
        "\n",
        "There's also an additional component to both the viewer and the anime which is technically called bias. It is a quantity used to represent unique information about that particular user or that particular anime respectively. So, if there's a user who on an average rates all anime highly or there's an anime which is a favorite across all viewers irrespective of their choices, such information is captured by a term called bias. So, every viewer and every anime is represented in this structure using an n-dimensional vector and a bias term. \n",
        "\n",
        "## Collaborative Filtering in fastai2\n",
        "fastai2 provides a learner called collab_learner which could be used in order to perform collaborative filtering. Let's dive right into it.\n"
      ]
    },
    {
      "cell_type": "code",
      "metadata": {
        "id": "R4cUIsEI1VO8",
        "colab_type": "code",
        "colab": {}
      },
      "source": [
        "import warnings\n",
        "warnings.filterwarnings(\"ignore\")"
      ],
      "execution_count": null,
      "outputs": []
    },
    {
      "cell_type": "code",
      "metadata": {
        "id": "DRwId-4v79gw",
        "colab_type": "code",
        "colab": {}
      },
      "source": [
        "import pandas as pd\n",
        "import os\n",
        "\n",
        "import matplotlib.pyplot as plt\n",
        "import seaborn as sns\n",
        "%matplotlib inline"
      ],
      "execution_count": null,
      "outputs": []
    },
    {
      "cell_type": "code",
      "metadata": {
        "id": "0LAa2_HCkohS",
        "colab_type": "code",
        "colab": {}
      },
      "source": [
        "import matplotlib.style as style\n",
        "style.use('fivethirtyeight')"
      ],
      "execution_count": null,
      "outputs": []
    },
    {
      "cell_type": "code",
      "metadata": {
        "id": "XY0hTDlV1Is6",
        "colab_type": "code",
        "colab": {}
      },
      "source": [
        "!pip install -Uqq fastbook\n",
        "import fastbook"
      ],
      "execution_count": null,
      "outputs": []
    },
    {
      "cell_type": "code",
      "metadata": {
        "id": "M49QJAGV02fE",
        "colab_type": "code",
        "colab": {}
      },
      "source": [
        "from fastbook import *"
      ],
      "execution_count": null,
      "outputs": []
    },
    {
      "cell_type": "code",
      "metadata": {
        "id": "MJdpqEHn02iX",
        "colab_type": "code",
        "colab": {}
      },
      "source": [
        "from fastai import *\n",
        "from fastai.collab import *"
      ],
      "execution_count": null,
      "outputs": []
    },
    {
      "cell_type": "code",
      "metadata": {
        "id": "0SUedCmC02lc",
        "colab_type": "code",
        "colab": {}
      },
      "source": [
        "os.chdir(\"./drive/My Drive/Colab Notebooks/AnimeRecommendations\")"
      ],
      "execution_count": null,
      "outputs": []
    },
    {
      "cell_type": "code",
      "metadata": {
        "id": "aJsrXpIL02o0",
        "colab_type": "code",
        "colab": {
          "base_uri": "https://localhost:8080/",
          "height": 166
        },
        "outputId": "a1054503-db80-4af7-d952-1038d8cfec32"
      },
      "source": [
        "os.listdir(\".\")"
      ],
      "execution_count": null,
      "outputs": [
        {
          "output_type": "execute_result",
          "data": {
            "text/plain": [
              "['anime.csv',\n",
              " 'rating.csv',\n",
              " 'models',\n",
              " 'Embedding_Dot_Bias_Recommender_model.pkl',\n",
              " 'final_data.csv',\n",
              " 'train_ds_xs.csv',\n",
              " 'valid_ds_xs.csv',\n",
              " 'train_ds_ys.csv',\n",
              " 'valid_ds_ys.csv']"
            ]
          },
          "metadata": {
            "tags": []
          },
          "execution_count": 89
        }
      ]
    },
    {
      "cell_type": "code",
      "metadata": {
        "id": "6JP2LLGr-_qv",
        "colab_type": "code",
        "colab": {}
      },
      "source": [
        "final_data = pd.read_csv(\"./final_data.csv\")\n",
        "train_ds_xs = pd.read_csv(\"./train_ds_xs.csv\")"
      ],
      "execution_count": null,
      "outputs": []
    },
    {
      "cell_type": "code",
      "metadata": {
        "id": "MCAje5aS02uJ",
        "colab_type": "code",
        "colab": {
          "base_uri": "https://localhost:8080/",
          "height": 197
        },
        "outputId": "3cd2f72e-9a9a-4a3c-9fc7-b2216441bbc0"
      },
      "source": [
        "data = pd.read_csv(\"./rating.csv\", na_values=[-1])\n",
        "data.columns = ['user_id', 'anime_id', 'ratings']\n",
        "data.head()"
      ],
      "execution_count": null,
      "outputs": [
        {
          "output_type": "execute_result",
          "data": {
            "text/html": [
              "<div>\n",
              "<style scoped>\n",
              "    .dataframe tbody tr th:only-of-type {\n",
              "        vertical-align: middle;\n",
              "    }\n",
              "\n",
              "    .dataframe tbody tr th {\n",
              "        vertical-align: top;\n",
              "    }\n",
              "\n",
              "    .dataframe thead th {\n",
              "        text-align: right;\n",
              "    }\n",
              "</style>\n",
              "<table border=\"1\" class=\"dataframe\">\n",
              "  <thead>\n",
              "    <tr style=\"text-align: right;\">\n",
              "      <th></th>\n",
              "      <th>user_id</th>\n",
              "      <th>anime_id</th>\n",
              "      <th>ratings</th>\n",
              "    </tr>\n",
              "  </thead>\n",
              "  <tbody>\n",
              "    <tr>\n",
              "      <th>0</th>\n",
              "      <td>1</td>\n",
              "      <td>20</td>\n",
              "      <td>NaN</td>\n",
              "    </tr>\n",
              "    <tr>\n",
              "      <th>1</th>\n",
              "      <td>1</td>\n",
              "      <td>24</td>\n",
              "      <td>NaN</td>\n",
              "    </tr>\n",
              "    <tr>\n",
              "      <th>2</th>\n",
              "      <td>1</td>\n",
              "      <td>79</td>\n",
              "      <td>NaN</td>\n",
              "    </tr>\n",
              "    <tr>\n",
              "      <th>3</th>\n",
              "      <td>1</td>\n",
              "      <td>226</td>\n",
              "      <td>NaN</td>\n",
              "    </tr>\n",
              "    <tr>\n",
              "      <th>4</th>\n",
              "      <td>1</td>\n",
              "      <td>241</td>\n",
              "      <td>NaN</td>\n",
              "    </tr>\n",
              "  </tbody>\n",
              "</table>\n",
              "</div>"
            ],
            "text/plain": [
              "   user_id  anime_id  ratings\n",
              "0        1        20      NaN\n",
              "1        1        24      NaN\n",
              "2        1        79      NaN\n",
              "3        1       226      NaN\n",
              "4        1       241      NaN"
            ]
          },
          "metadata": {
            "tags": []
          },
          "execution_count": 46
        }
      ]
    },
    {
      "cell_type": "code",
      "metadata": {
        "id": "q9SNEWe-gqCu",
        "colab_type": "code",
        "colab": {
          "base_uri": "https://localhost:8080/",
          "height": 33
        },
        "outputId": "bb204e0d-bff4-4959-b175-5f29962887dc"
      },
      "source": [
        "print(f\"Total entries in data: {len(data)}\")"
      ],
      "execution_count": null,
      "outputs": [
        {
          "output_type": "stream",
          "text": [
            "Total entries in data: 7813737\n"
          ],
          "name": "stdout"
        }
      ]
    },
    {
      "cell_type": "code",
      "metadata": {
        "id": "wsopXJLM0QDL",
        "colab_type": "code",
        "colab": {
          "base_uri": "https://localhost:8080/",
          "height": 197
        },
        "outputId": "864ec5e5-5adb-43ab-9196-996c19b655cb"
      },
      "source": [
        "anime_data = pd.read_csv(\"./anime.csv\")\n",
        "anime_data.head()"
      ],
      "execution_count": null,
      "outputs": [
        {
          "output_type": "execute_result",
          "data": {
            "text/html": [
              "<div>\n",
              "<style scoped>\n",
              "    .dataframe tbody tr th:only-of-type {\n",
              "        vertical-align: middle;\n",
              "    }\n",
              "\n",
              "    .dataframe tbody tr th {\n",
              "        vertical-align: top;\n",
              "    }\n",
              "\n",
              "    .dataframe thead th {\n",
              "        text-align: right;\n",
              "    }\n",
              "</style>\n",
              "<table border=\"1\" class=\"dataframe\">\n",
              "  <thead>\n",
              "    <tr style=\"text-align: right;\">\n",
              "      <th></th>\n",
              "      <th>anime_id</th>\n",
              "      <th>name</th>\n",
              "      <th>genre</th>\n",
              "      <th>type</th>\n",
              "      <th>episodes</th>\n",
              "      <th>rating</th>\n",
              "      <th>members</th>\n",
              "    </tr>\n",
              "  </thead>\n",
              "  <tbody>\n",
              "    <tr>\n",
              "      <th>0</th>\n",
              "      <td>32281</td>\n",
              "      <td>Kimi no Na wa.</td>\n",
              "      <td>Drama, Romance, School, Supernatural</td>\n",
              "      <td>Movie</td>\n",
              "      <td>1</td>\n",
              "      <td>9.37</td>\n",
              "      <td>200630</td>\n",
              "    </tr>\n",
              "    <tr>\n",
              "      <th>1</th>\n",
              "      <td>5114</td>\n",
              "      <td>Fullmetal Alchemist: Brotherhood</td>\n",
              "      <td>Action, Adventure, Drama, Fantasy, Magic, Military, Shounen</td>\n",
              "      <td>TV</td>\n",
              "      <td>64</td>\n",
              "      <td>9.26</td>\n",
              "      <td>793665</td>\n",
              "    </tr>\n",
              "    <tr>\n",
              "      <th>2</th>\n",
              "      <td>28977</td>\n",
              "      <td>Gintama°</td>\n",
              "      <td>Action, Comedy, Historical, Parody, Samurai, Sci-Fi, Shounen</td>\n",
              "      <td>TV</td>\n",
              "      <td>51</td>\n",
              "      <td>9.25</td>\n",
              "      <td>114262</td>\n",
              "    </tr>\n",
              "    <tr>\n",
              "      <th>3</th>\n",
              "      <td>9253</td>\n",
              "      <td>Steins;Gate</td>\n",
              "      <td>Sci-Fi, Thriller</td>\n",
              "      <td>TV</td>\n",
              "      <td>24</td>\n",
              "      <td>9.17</td>\n",
              "      <td>673572</td>\n",
              "    </tr>\n",
              "    <tr>\n",
              "      <th>4</th>\n",
              "      <td>9969</td>\n",
              "      <td>Gintama&amp;#039;</td>\n",
              "      <td>Action, Comedy, Historical, Parody, Samurai, Sci-Fi, Shounen</td>\n",
              "      <td>TV</td>\n",
              "      <td>51</td>\n",
              "      <td>9.16</td>\n",
              "      <td>151266</td>\n",
              "    </tr>\n",
              "  </tbody>\n",
              "</table>\n",
              "</div>"
            ],
            "text/plain": [
              "   anime_id                              name  \\\n",
              "0     32281                    Kimi no Na wa.   \n",
              "1      5114  Fullmetal Alchemist: Brotherhood   \n",
              "2     28977                          Gintama°   \n",
              "3      9253                       Steins;Gate   \n",
              "4      9969                     Gintama&#039;   \n",
              "\n",
              "                                                          genre   type  \\\n",
              "0                          Drama, Romance, School, Supernatural  Movie   \n",
              "1   Action, Adventure, Drama, Fantasy, Magic, Military, Shounen     TV   \n",
              "2  Action, Comedy, Historical, Parody, Samurai, Sci-Fi, Shounen     TV   \n",
              "3                                              Sci-Fi, Thriller     TV   \n",
              "4  Action, Comedy, Historical, Parody, Samurai, Sci-Fi, Shounen     TV   \n",
              "\n",
              "  episodes  rating  members  \n",
              "0        1    9.37   200630  \n",
              "1       64    9.26   793665  \n",
              "2       51    9.25   114262  \n",
              "3       24    9.17   673572  \n",
              "4       51    9.16   151266  "
            ]
          },
          "metadata": {
            "tags": []
          },
          "execution_count": 153
        }
      ]
    },
    {
      "cell_type": "markdown",
      "metadata": {
        "id": "141cLQhFZLNx",
        "colab_type": "text"
      },
      "source": [
        "There are people who have seen anime but not rated it. Such users are represented with a -1 in the ratings column. Hence read all the -1 ratings values as na_values.\n",
        "\n",
        "Our model will not work with NaN values, so we will have to impute that column with the mean rating for the respective anime_id. Firstly, we'll have to check if all the anime in ratings data actually exist in anime data and if not, only keep the ratings for those anime present in anime_data."
      ]
    },
    {
      "cell_type": "code",
      "metadata": {
        "id": "oj9pHmdibaRh",
        "colab_type": "code",
        "colab": {
          "base_uri": "https://localhost:8080/",
          "height": 33
        },
        "outputId": "aa309c75-b00d-420c-bcf8-c1ac526d4de3"
      },
      "source": [
        "different = set(data.anime_id).difference(anime_data.anime_id)\n",
        "different"
      ],
      "execution_count": null,
      "outputs": [
        {
          "output_type": "execute_result",
          "data": {
            "text/plain": [
              "{20261, 30913, 30924}"
            ]
          },
          "metadata": {
            "tags": []
          },
          "execution_count": 49
        }
      ]
    },
    {
      "cell_type": "code",
      "metadata": {
        "id": "4NP0s-Ywd_y2",
        "colab_type": "code",
        "colab": {
          "base_uri": "https://localhost:8080/",
          "height": 33
        },
        "outputId": "09bc635a-db68-4d5c-8e68-5c848dc61cc3"
      },
      "source": [
        "ids = data[data.anime_id.apply(lambda x: x in different)].index\n",
        "data = data.drop(ids).reset_index()\n",
        "print(f\"Total entries in data: {len(data)}\")"
      ],
      "execution_count": null,
      "outputs": [
        {
          "output_type": "stream",
          "text": [
            "Total entries in data: 7813727\n"
          ],
          "name": "stdout"
        }
      ]
    },
    {
      "cell_type": "markdown",
      "metadata": {
        "id": "ISSvEHadeMC7",
        "colab_type": "text"
      },
      "source": [
        "Also, we can see that the amount of anime involved is a lot. We will not be able to deal with such a large corpus of data and will narrow it down to include top 5000 anime which have the most number of members.\n",
        "\n",
        "**Why top 5k by members and not top 5k by average rating?**\n",
        "\n",
        "Well, in this dataset, there are anime which are only rated by 5-10 people very highly or very lowly. They do not represent the true sentiment of the larger viewer community. If we were to think of the average rating as a pragmatic estimate, we want the anime to have been watched and rated by as many members as possible. Hence this step."
      ]
    },
    {
      "cell_type": "code",
      "metadata": {
        "id": "f92TUrzcfCQE",
        "colab_type": "code",
        "colab": {
          "base_uri": "https://localhost:8080/",
          "height": 33
        },
        "outputId": "abf2d482-39a7-4fe8-8449-376a6ef18a05"
      },
      "source": [
        "not_permitted_anime_ids = list(anime_data.sort_values(by = ['members'], ascending = False)[5000:].anime_id)\n",
        "\n",
        "ids = data[data.anime_id.apply(lambda x: x in not_permitted_anime_ids)].index\n",
        "data = data.drop(ids).reset_index()\n",
        "print(f\"Total entries in data: {len(data)}\")"
      ],
      "execution_count": null,
      "outputs": [
        {
          "output_type": "stream",
          "text": [
            "Total entries in data: 7677496\n"
          ],
          "name": "stdout"
        }
      ]
    },
    {
      "cell_type": "markdown",
      "metadata": {
        "id": "4bh2wMvnkv14",
        "colab_type": "text"
      },
      "source": [
        "It can be seen that we have reduced number of recommendations down from 7.8M to 7.6M by keeping only 5k anime_ids\n",
        "\n",
        "This means our model will have almost 7k less embeddings but still get to learn on nearly 7M ratings which is a great thing!"
      ]
    },
    {
      "cell_type": "code",
      "metadata": {
        "id": "rjDK4-soZxJq",
        "colab_type": "code",
        "colab": {}
      },
      "source": [
        "anime_rating_mapping = {int(k):v for k,v in anime_data[['anime_id', 'rating']].values}\n",
        "\n",
        "imputed_ratings = []\n",
        "for anime_id, item in data[[\"anime_id\", \"ratings\"]].values:\n",
        "    if np.isnan(item):\n",
        "        imputed_ratings.append(anime_rating_mapping[int(anime_id)])\n",
        "    else:\n",
        "        imputed_ratings.append(item)"
      ],
      "execution_count": null,
      "outputs": []
    },
    {
      "cell_type": "code",
      "metadata": {
        "id": "UuPd1BbyfdJ6",
        "colab_type": "code",
        "colab": {}
      },
      "source": [
        "data[\"ratings\"] = imputed_ratings"
      ],
      "execution_count": null,
      "outputs": []
    },
    {
      "cell_type": "code",
      "metadata": {
        "id": "4tWPmd2k0diV",
        "colab_type": "code",
        "colab": {
          "base_uri": "https://localhost:8080/",
          "height": 197
        },
        "outputId": "874b5d28-e862-4210-b91f-8ea4fadd19d6"
      },
      "source": [
        "final_data = pd.merge(left = data, right = anime_data, how = \"inner\", on = \"anime_id\")\n",
        "final_data = final_data.dropna()  # Some anime have missing genre or members data, so drop those records as well.\n",
        "final_data.head()"
      ],
      "execution_count": null,
      "outputs": [
        {
          "output_type": "execute_result",
          "data": {
            "text/html": [
              "<div>\n",
              "<style scoped>\n",
              "    .dataframe tbody tr th:only-of-type {\n",
              "        vertical-align: middle;\n",
              "    }\n",
              "\n",
              "    .dataframe tbody tr th {\n",
              "        vertical-align: top;\n",
              "    }\n",
              "\n",
              "    .dataframe thead th {\n",
              "        text-align: right;\n",
              "    }\n",
              "</style>\n",
              "<table border=\"1\" class=\"dataframe\">\n",
              "  <thead>\n",
              "    <tr style=\"text-align: right;\">\n",
              "      <th></th>\n",
              "      <th>level_0</th>\n",
              "      <th>index</th>\n",
              "      <th>user_id</th>\n",
              "      <th>anime_id</th>\n",
              "      <th>ratings</th>\n",
              "      <th>name</th>\n",
              "      <th>genre</th>\n",
              "      <th>type</th>\n",
              "      <th>episodes</th>\n",
              "      <th>rating</th>\n",
              "      <th>members</th>\n",
              "    </tr>\n",
              "  </thead>\n",
              "  <tbody>\n",
              "    <tr>\n",
              "      <th>0</th>\n",
              "      <td>0</td>\n",
              "      <td>0</td>\n",
              "      <td>1</td>\n",
              "      <td>20</td>\n",
              "      <td>7.81</td>\n",
              "      <td>Naruto</td>\n",
              "      <td>Action, Comedy, Martial Arts, Shounen, Super Power</td>\n",
              "      <td>TV</td>\n",
              "      <td>220</td>\n",
              "      <td>7.81</td>\n",
              "      <td>683297</td>\n",
              "    </tr>\n",
              "    <tr>\n",
              "      <th>1</th>\n",
              "      <td>156</td>\n",
              "      <td>156</td>\n",
              "      <td>3</td>\n",
              "      <td>20</td>\n",
              "      <td>8.00</td>\n",
              "      <td>Naruto</td>\n",
              "      <td>Action, Comedy, Martial Arts, Shounen, Super Power</td>\n",
              "      <td>TV</td>\n",
              "      <td>220</td>\n",
              "      <td>7.81</td>\n",
              "      <td>683297</td>\n",
              "    </tr>\n",
              "    <tr>\n",
              "      <th>2</th>\n",
              "      <td>306</td>\n",
              "      <td>306</td>\n",
              "      <td>5</td>\n",
              "      <td>20</td>\n",
              "      <td>6.00</td>\n",
              "      <td>Naruto</td>\n",
              "      <td>Action, Comedy, Martial Arts, Shounen, Super Power</td>\n",
              "      <td>TV</td>\n",
              "      <td>220</td>\n",
              "      <td>7.81</td>\n",
              "      <td>683297</td>\n",
              "    </tr>\n",
              "    <tr>\n",
              "      <th>3</th>\n",
              "      <td>769</td>\n",
              "      <td>769</td>\n",
              "      <td>6</td>\n",
              "      <td>20</td>\n",
              "      <td>7.81</td>\n",
              "      <td>Naruto</td>\n",
              "      <td>Action, Comedy, Martial Arts, Shounen, Super Power</td>\n",
              "      <td>TV</td>\n",
              "      <td>220</td>\n",
              "      <td>7.81</td>\n",
              "      <td>683297</td>\n",
              "    </tr>\n",
              "    <tr>\n",
              "      <th>4</th>\n",
              "      <td>1162</td>\n",
              "      <td>1162</td>\n",
              "      <td>10</td>\n",
              "      <td>20</td>\n",
              "      <td>7.81</td>\n",
              "      <td>Naruto</td>\n",
              "      <td>Action, Comedy, Martial Arts, Shounen, Super Power</td>\n",
              "      <td>TV</td>\n",
              "      <td>220</td>\n",
              "      <td>7.81</td>\n",
              "      <td>683297</td>\n",
              "    </tr>\n",
              "  </tbody>\n",
              "</table>\n",
              "</div>"
            ],
            "text/plain": [
              "   level_0  index  user_id  anime_id  ratings    name  \\\n",
              "0        0      0        1        20     7.81  Naruto   \n",
              "1      156    156        3        20     8.00  Naruto   \n",
              "2      306    306        5        20     6.00  Naruto   \n",
              "3      769    769        6        20     7.81  Naruto   \n",
              "4     1162   1162       10        20     7.81  Naruto   \n",
              "\n",
              "                                                genre type episodes  rating  \\\n",
              "0  Action, Comedy, Martial Arts, Shounen, Super Power   TV      220    7.81   \n",
              "1  Action, Comedy, Martial Arts, Shounen, Super Power   TV      220    7.81   \n",
              "2  Action, Comedy, Martial Arts, Shounen, Super Power   TV      220    7.81   \n",
              "3  Action, Comedy, Martial Arts, Shounen, Super Power   TV      220    7.81   \n",
              "4  Action, Comedy, Martial Arts, Shounen, Super Power   TV      220    7.81   \n",
              "\n",
              "   members  \n",
              "0   683297  \n",
              "1   683297  \n",
              "2   683297  \n",
              "3   683297  \n",
              "4   683297  "
            ]
          },
          "metadata": {
            "tags": []
          },
          "execution_count": 55
        }
      ]
    },
    {
      "cell_type": "code",
      "metadata": {
        "id": "JwamYsUrlg1z",
        "colab_type": "code",
        "colab": {}
      },
      "source": [
        "# final_data.to_csv(\"./final_data.csv\", index=False)"
      ],
      "execution_count": null,
      "outputs": []
    },
    {
      "cell_type": "markdown",
      "metadata": {
        "id": "hNZjpVm59HxN",
        "colab_type": "text"
      },
      "source": [
        "Generally, data is represented in this way. Although this is not a very intuitive way to look at it, it's a pretty efficient way to store data. This is because most viewers haven't seen most anime. \n",
        "\n",
        "When such is the case, there will be a lot of zeros if we try to store it as a matrix of viewers v/s anime. Such matrices are called sparse matrices. There are efficient ways to store such matrices as well, however we would let it pass for the time being. Let's focus on the task at hand now."
      ]
    },
    {
      "cell_type": "code",
      "metadata": {
        "id": "gCeNa3SJ02x-",
        "colab_type": "code",
        "colab": {
          "base_uri": "https://localhost:8080/",
          "height": 576
        },
        "outputId": "e679fa8a-f0b9-42c9-fde1-87445c6d4ffd"
      },
      "source": [
        "fig, ax = plt.subplots(1, 1, figsize = (15, 8))\n",
        "sns.distplot(data.ratings, ax = ax, kde = False)\n",
        "ax.set_title(\"Histogram of Ratings\", fontsize = 20)\n",
        "plt.tight_layout();"
      ],
      "execution_count": null,
      "outputs": [
        {
          "output_type": "display_data",
          "data": {
            "image/png": "[encoded data removed]",
            "text/plain": [
              "<Figure size 1080x576 with 1 Axes>"
            ]
          },
          "metadata": {
            "tags": []
          }
        }
      ]
    },
    {
      "cell_type": "markdown",
      "metadata": {
        "id": "LR6Syk8a024B",
        "colab_type": "text"
      },
      "source": [
        "We can observe that there are relatively few users who have rated on middle grounds. Many viewers liked many anime more frequently and there's a small frequency of users who strongly disliked any anime."
      ]
    },
    {
      "cell_type": "markdown",
      "metadata": {
        "id": "-LMC7VVc0295",
        "colab_type": "text"
      },
      "source": [
        "We need to load the data in a specific format for feeding it to the neural network. The collab subpackage of fastai contains a module called `CollabDataLoaders` which we can use in order to load the data.\n",
        "\n",
        "Particularly since we're loading the data from a pandas dataframe, we'll be using the from_df factory method to load the data."
      ]
    },
    {
      "cell_type": "code",
      "metadata": {
        "id": "mPLU9o1a03Bg",
        "colab_type": "code",
        "colab": {
          "base_uri": "https://localhost:8080/",
          "height": 347
        },
        "outputId": "4438c7b9-8e74-4e05-ffc6-7aeaa0429413"
      },
      "source": [
        "dloader = CollabDataLoaders.from_df(final_data, user_name = \"user_id\", item_name = \"name\", rating_name = \"ratings\", bs=64, seed = 0)\n",
        "dloader.show_batch()"
      ],
      "execution_count": null,
      "outputs": [
        {
          "output_type": "display_data",
          "data": {
            "text/html": [
              "<table border=\"1\" class=\"dataframe\">\n",
              "  <thead>\n",
              "    <tr style=\"text-align: right;\">\n",
              "      <th></th>\n",
              "      <th>user_id</th>\n",
              "      <th>name</th>\n",
              "      <th>ratings</th>\n",
              "    </tr>\n",
              "  </thead>\n",
              "  <tbody>\n",
              "    <tr>\n",
              "      <th>0</th>\n",
              "      <td>37410</td>\n",
              "      <td>Hataraku Maou-sama!</td>\n",
              "      <td>7.00</td>\n",
              "    </tr>\n",
              "    <tr>\n",
              "      <th>1</th>\n",
              "      <td>45372</td>\n",
              "      <td>Noragami</td>\n",
              "      <td>8.17</td>\n",
              "    </tr>\n",
              "    <tr>\n",
              "      <th>2</th>\n",
              "      <td>12314</td>\n",
              "      <td>91 Days</td>\n",
              "      <td>10.00</td>\n",
              "    </tr>\n",
              "    <tr>\n",
              "      <th>3</th>\n",
              "      <td>26931</td>\n",
              "      <td>Shingeki no Kyojin: Ano Hi Kara</td>\n",
              "      <td>5.00</td>\n",
              "    </tr>\n",
              "    <tr>\n",
              "      <th>4</th>\n",
              "      <td>2817</td>\n",
              "      <td>Karneval (TV)</td>\n",
              "      <td>8.00</td>\n",
              "    </tr>\n",
              "    <tr>\n",
              "      <th>5</th>\n",
              "      <td>6599</td>\n",
              "      <td>Kodomo no Jikan: Ni Gakki</td>\n",
              "      <td>7.32</td>\n",
              "    </tr>\n",
              "    <tr>\n",
              "      <th>6</th>\n",
              "      <td>28250</td>\n",
              "      <td>Bishoujo Senshi Sailor Moon: Sailor Stars</td>\n",
              "      <td>10.00</td>\n",
              "    </tr>\n",
              "    <tr>\n",
              "      <th>7</th>\n",
              "      <td>32436</td>\n",
              "      <td>Dragon Ball Z Movie 12: Fukkatsu no Fusion!! Gokuu to Vegeta</td>\n",
              "      <td>8.00</td>\n",
              "    </tr>\n",
              "    <tr>\n",
              "      <th>8</th>\n",
              "      <td>37347</td>\n",
              "      <td>Ore no Imouto ga Konnani Kawaii Wake ga Nai.</td>\n",
              "      <td>9.00</td>\n",
              "    </tr>\n",
              "    <tr>\n",
              "      <th>9</th>\n",
              "      <td>11141</td>\n",
              "      <td>Futakoi Alternative</td>\n",
              "      <td>8.00</td>\n",
              "    </tr>\n",
              "  </tbody>\n",
              "</table>"
            ],
            "text/plain": [
              "<IPython.core.display.HTML object>"
            ]
          },
          "metadata": {
            "tags": []
          }
        }
      ]
    },
    {
      "cell_type": "markdown",
      "metadata": {
        "id": "JI4akQN803FK",
        "colab_type": "text"
      },
      "source": [
        "So we create a DataLoader above. Since the names of columns could be application specific, we need to specify the names of user, item and ratings columns respectively. \n",
        "\n",
        "The argument valid_pct stands for validation data percentage. Once we build a model, it's actual sanctity is gauged by how well it performs on this data. Our model will be trained using 90% of the available data and tested on this 10% of validation data which it has never seen before. Only when our model performs well on both the training and validation sets, can we say that we've done a decent job.\n",
        "\n",
        "With this `dloader` object, we can see what all it contains."
      ]
    },
    {
      "cell_type": "code",
      "metadata": {
        "id": "k-I1E5B_027d",
        "colab_type": "code",
        "colab": {
          "base_uri": "https://localhost:8080/",
          "height": 86
        },
        "outputId": "37ebef81-12db-422f-cfd8-7590159ee8ac"
      },
      "source": [
        "print(dloader.classes)\n",
        "print(f\"Number of viewers: {len(dloader.classes['user_id'])}\")\n",
        "print(f\"Number of anime: {len(dloader.classes['name'])}\")"
      ],
      "execution_count": null,
      "outputs": [
        {
          "output_type": "stream",
          "text": [
            "{'user_id': (#72963) ['#na#',1,2,3,4,5,6,7,8,9...], 'name': (#4802) ['#na#','&quot;Bungaku Shoujo&quot; Kyou no Oyatsu: Hatsukoi','&quot;Bungaku Shoujo&quot; Memoire','&quot;Bungaku Shoujo&quot; Movie','.hack//G.U. Returner','.hack//G.U. Trilogy','.hack//G.U. Trilogy: Parody Mode','.hack//Gift','.hack//Intermezzo','.hack//Liminality'...]}\n",
            "Number of viewers: 72963\n",
            "Number of anime: 4802\n"
          ],
          "name": "stdout"
        }
      ]
    },
    {
      "cell_type": "code",
      "metadata": {
        "id": "1-9kyAmBmKvB",
        "colab_type": "code",
        "colab": {}
      },
      "source": [
        "# Store the order of classes in both user_id and name for the sake of retrieval later on\n",
        "order = {k:list(v) for k,v in dloader.classes.items()}\n",
        "with open(\"dataloader_order.pkl\", \"wb\") as f:\n",
        "    pickle.dump(order, f)\n",
        "    f.close()\n",
        "\n",
        "# Store the postions of the users in train dataset and validation dataset for easy retrieval later on\n",
        "obj = {\"Train_viewers\": dloader.train_ds.xs.user_id.unique(),\n",
        "       \"Train_anime\":dloader.train_ds.xs.name.unique(),\n",
        "       \"Valid_viewers\":dloader.valid_ds.xs.user_id.unique(),\n",
        "       \"Valid_anime\":dloader.valid_ds.xs.name.unique()}\n",
        "\n",
        "with open(\"dataloader_train_valid_split.pkl\", \"wb\") as f:\n",
        "    pickle.dump(obj, f)\n",
        "    f.close()"
      ],
      "execution_count": null,
      "outputs": []
    },
    {
      "cell_type": "markdown",
      "metadata": {
        "id": "M2Ejeaop022Z",
        "colab_type": "text"
      },
      "source": [
        "Now that we have processed the data and have it ready for building our model, let's get to actually building the model.\n",
        "\n",
        "\n",
        "## Embedding Dot Bias Model\n",
        "\n",
        "This model is a plain model just like we discussed in `The basis` section above. Both viewers and anime are represented as vectors and we get matrices for the same since there's many viewers and many anime. Next, we do the dot product on them and compare them with our actual viewer ratings using the loss function Mean Squared Error which we aim to reduce. Eventually the model will become good at representing both the viewers and anime in this n-dimensional space. \n",
        "\n",
        "Let's create a simple model and train it and evaluate it's performance."
      ]
    },
    {
      "cell_type": "code",
      "metadata": {
        "id": "xWG9Mg5002sa",
        "colab_type": "code",
        "colab": {}
      },
      "source": [
        "# This is an empirical trick which is meant to make the embedding better\n",
        "# We basically constrain the output of dot product between a slightly \n",
        "# expanded range in order to improve the quality of embeddings\n",
        "min_rating = final_data.ratings.min()\n",
        "max_rating = final_data.ratings.max() + 0.5\n",
        "\n",
        "# Representing every user and every movie as a vector of length 50\n",
        "learn = collab_learner(dls = dloader, n_factors = 50, y_range = (min_rating, max_rating))"
      ],
      "execution_count": null,
      "outputs": []
    },
    {
      "cell_type": "code",
      "metadata": {
        "id": "L6wg3pO7A-Ft",
        "colab_type": "code",
        "colab": {
          "base_uri": "https://localhost:8080/",
          "height": 324
        },
        "outputId": "6d5a2b41-35e8-4d5a-bd69-2cbc39fba663"
      },
      "source": [
        "# Find a proper learning rate\n",
        "learn.lr_find()"
      ],
      "execution_count": null,
      "outputs": [
        {
          "output_type": "display_data",
          "data": {
            "text/html": [
              ""
            ],
            "text/plain": [
              "<IPython.core.display.HTML object>"
            ]
          },
          "metadata": {
            "tags": []
          }
        },
        {
          "output_type": "execute_result",
          "data": {
            "text/plain": [
              "SuggestedLRs(lr_min=0.19054607152938843, lr_steep=0.3019951581954956)"
            ]
          },
          "metadata": {
            "tags": []
          },
          "execution_count": 79
        },
        {
          "output_type": "display_data",
          "data": {
            "image/png": "[encoded data removed]",
            "text/plain": [
              "<Figure size 432x288 with 1 Axes>"
            ]
          },
          "metadata": {
            "tags": []
          }
        }
      ]
    },
    {
      "cell_type": "code",
      "metadata": {
        "id": "zI8H1iDMB2q1",
        "colab_type": "code",
        "colab": {
          "base_uri": "https://localhost:8080/",
          "height": 227
        },
        "outputId": "d673b49c-a817-4fe9-ed13-13b2afd2177b"
      },
      "source": [
        "# Run the learner for 5 episodes with a small weight decay for regularization\n",
        "learn.fit_one_cycle(n_epoch = 6, lr_max = 5e-3, wd = 1e-3)"
      ],
      "execution_count": null,
      "outputs": [
        {
          "output_type": "display_data",
          "data": {
            "text/html": [
              "<table border=\"1\" class=\"dataframe\">\n",
              "  <thead>\n",
              "    <tr style=\"text-align: left;\">\n",
              "      <th>epoch</th>\n",
              "      <th>train_loss</th>\n",
              "      <th>valid_loss</th>\n",
              "      <th>time</th>\n",
              "    </tr>\n",
              "  </thead>\n",
              "  <tbody>\n",
              "    <tr>\n",
              "      <td>0</td>\n",
              "      <td>1.279564</td>\n",
              "      <td>1.364598</td>\n",
              "      <td>19:26</td>\n",
              "    </tr>\n",
              "    <tr>\n",
              "      <td>1</td>\n",
              "      <td>1.591914</td>\n",
              "      <td>1.587528</td>\n",
              "      <td>19:21</td>\n",
              "    </tr>\n",
              "    <tr>\n",
              "      <td>2</td>\n",
              "      <td>1.430645</td>\n",
              "      <td>1.429105</td>\n",
              "      <td>19:02</td>\n",
              "    </tr>\n",
              "    <tr>\n",
              "      <td>3</td>\n",
              "      <td>1.191953</td>\n",
              "      <td>1.224636</td>\n",
              "      <td>19:20</td>\n",
              "    </tr>\n",
              "    <tr>\n",
              "      <td>4</td>\n",
              "      <td>0.994112</td>\n",
              "      <td>1.111616</td>\n",
              "      <td>19:12</td>\n",
              "    </tr>\n",
              "    <tr>\n",
              "      <td>5</td>\n",
              "      <td>0.777396</td>\n",
              "      <td>1.114774</td>\n",
              "      <td>19:03</td>\n",
              "    </tr>\n",
              "  </tbody>\n",
              "</table>"
            ],
            "text/plain": [
              "<IPython.core.display.HTML object>"
            ]
          },
          "metadata": {
            "tags": []
          }
        }
      ]
    },
    {
      "cell_type": "code",
      "metadata": {
        "id": "aOEplfRMFAYU",
        "colab_type": "code",
        "colab": {}
      },
      "source": [
        "# Save the model for inference later on\n",
        "learn.export(\"./Embedding_Dot_Bias_Recommender_model.pkl\")"
      ],
      "execution_count": null,
      "outputs": []
    },
    {
      "cell_type": "code",
      "metadata": {
        "id": "D5WnZ2D-nsGF",
        "colab_type": "code",
        "colab": {}
      },
      "source": [
        "learn = load_learner(\"./Embedding_Dot_Bias_Recommender_model.pkl\", cpu = False)"
      ],
      "execution_count": null,
      "outputs": []
    },
    {
      "cell_type": "markdown",
      "metadata": {
        "id": "qWNBmpExCIvX",
        "colab_type": "text"
      },
      "source": [
        "# The Neural Network Model\n",
        "\n",
        "On top of embedding dot-bias model we can build an MLP by adding fully connected layers for enhancing the complexity of models. Basically the user and movie vectors are concatenated and passed through a series of neural networks before taking the final dot product. Although in most of the cases, the former performs reasonably well, this neural network model also does work well in some other cases.\n",
        "\n",
        "It's a matter of performing trials and looking at the best performing network on evaluation of validation data that we can come to a conclusion on which model performs better. Let's build a model using Neural Networks as well and test the performance on that."
      ]
    },
    {
      "cell_type": "code",
      "metadata": {
        "id": "q1BnlEPrDs72",
        "colab_type": "code",
        "colab": {
          "base_uri": "https://localhost:8080/",
          "height": 324
        },
        "outputId": "4cc2d88d-1bfb-47e6-8cc0-658e91c9f2e7"
      },
      "source": [
        "# Representing every user and every movie as a vector of length 60\n",
        "# Add two layers in the network each with 120 neurons and 50 neurons respectively\n",
        "learn_nn = collab_learner(dls = dloader, use_nn = True, emb_szs = {\"user_id\":50, \"name\":50}, y_range = (min_rating, max_rating), layers = [50, 10])\n",
        "\n",
        "# Find an appropriate learning rate\n",
        "learn_nn.lr_find()"
      ],
      "execution_count": null,
      "outputs": [
        {
          "output_type": "display_data",
          "data": {
            "text/html": [
              ""
            ],
            "text/plain": [
              "<IPython.core.display.HTML object>"
            ]
          },
          "metadata": {
            "tags": []
          }
        },
        {
          "output_type": "execute_result",
          "data": {
            "text/plain": [
              "SuggestedLRs(lr_min=0.19054607152938843, lr_steep=0.010964781977236271)"
            ]
          },
          "metadata": {
            "tags": []
          },
          "execution_count": 239
        },
        {
          "output_type": "display_data",
          "data": {
            "image/png": "[encoded data removed]",
            "text/plain": [
              "<Figure size 432x288 with 1 Axes>"
            ]
          },
          "metadata": {
            "tags": []
          }
        }
      ]
    },
    {
      "cell_type": "code",
      "metadata": {
        "id": "Ti7aRjyGEGXd",
        "colab_type": "code",
        "colab": {
          "base_uri": "https://localhost:8080/",
          "height": 197
        },
        "outputId": "36d1e688-eca6-47c6-b47c-9300b850b925"
      },
      "source": [
        "# Run the learner for 5 episodes with a small weight decay for regularization\n",
        "learn_nn.fit_one_cycle(n_epoch = 5, lr_max = 5e-3, wd = 1e-3)"
      ],
      "execution_count": null,
      "outputs": [
        {
          "output_type": "display_data",
          "data": {
            "text/html": [
              "<table border=\"1\" class=\"dataframe\">\n",
              "  <thead>\n",
              "    <tr style=\"text-align: left;\">\n",
              "      <th>epoch</th>\n",
              "      <th>train_loss</th>\n",
              "      <th>valid_loss</th>\n",
              "      <th>time</th>\n",
              "    </tr>\n",
              "  </thead>\n",
              "  <tbody>\n",
              "    <tr>\n",
              "      <td>0</td>\n",
              "      <td>1.275790</td>\n",
              "      <td>1.254378</td>\n",
              "      <td>23:37</td>\n",
              "    </tr>\n",
              "    <tr>\n",
              "      <td>1</td>\n",
              "      <td>1.171738</td>\n",
              "      <td>1.189533</td>\n",
              "      <td>23:58</td>\n",
              "    </tr>\n",
              "    <tr>\n",
              "      <td>2</td>\n",
              "      <td>1.168509</td>\n",
              "      <td>1.158959</td>\n",
              "      <td>22:59</td>\n",
              "    </tr>\n",
              "    <tr>\n",
              "      <td>3</td>\n",
              "      <td>1.092983</td>\n",
              "      <td>1.133920</td>\n",
              "      <td>22:51</td>\n",
              "    </tr>\n",
              "    <tr>\n",
              "      <td>4</td>\n",
              "      <td>1.055323</td>\n",
              "      <td>1.130566</td>\n",
              "      <td>23:12</td>\n",
              "    </tr>\n",
              "  </tbody>\n",
              "</table>"
            ],
            "text/plain": [
              "<IPython.core.display.HTML object>"
            ]
          },
          "metadata": {
            "tags": []
          }
        }
      ]
    },
    {
      "cell_type": "code",
      "metadata": {
        "id": "2it1WUnrOV3n",
        "colab_type": "code",
        "colab": {}
      },
      "source": [
        "# Save the model for inference later on\n",
        "learn_nn.export(\"./NN_Recommender_model.pkl\")"
      ],
      "execution_count": null,
      "outputs": []
    },
    {
      "cell_type": "code",
      "metadata": {
        "id": "oJU6nlKawunl",
        "colab_type": "code",
        "colab": {}
      },
      "source": [
        "learn_nn = load_learner(\"./NN_Recommender_model.pkl\", cpu = False)"
      ],
      "execution_count": null,
      "outputs": []
    },
    {
      "cell_type": "markdown",
      "metadata": {
        "id": "mnpC_APCELy9",
        "colab_type": "text"
      },
      "source": [
        "# The Most Awaited Part - Interpretation & Recommendation\n",
        "\n",
        "Now that we have a model ready, let's try to interpret it, use it and make some suggestions/recommendations.\n",
        "\n",
        "## Understanding Anime biases and weights/embeddings\n",
        "\n",
        "Let's try to understand the anime embeddings for the Embedding dot-bias model. First, let's see what all layers are there in the model."
      ]
    },
    {
      "cell_type": "code",
      "metadata": {
        "id": "-i85RHBrPT0o",
        "colab_type": "code",
        "colab": {
          "base_uri": "https://localhost:8080/",
          "height": 116
        },
        "outputId": "f3d6917a-f74f-4a13-8c62-d75e95f16893"
      },
      "source": [
        "learn.model"
      ],
      "execution_count": null,
      "outputs": [
        {
          "output_type": "execute_result",
          "data": {
            "text/plain": [
              "EmbeddingDotBias(\n",
              "  (u_weight): Embedding(72963, 50)\n",
              "  (i_weight): Embedding(4802, 50)\n",
              "  (u_bias): Embedding(72963, 1)\n",
              "  (i_bias): Embedding(4802, 1)\n",
              ")"
            ]
          },
          "metadata": {
            "tags": []
          },
          "execution_count": 149
        }
      ]
    },
    {
      "cell_type": "markdown",
      "metadata": {
        "id": "h0PCXOsPRe7N",
        "colab_type": "text"
      },
      "source": [
        "As seen, there are two components for viewers and two for anime respectively, one being the vector and another one being the bias term.\n",
        "\n",
        "Let's order the anime which by the most rated ones being the top ones (not rated highly but the most rated i.e. the viewers watched and rated the anime)."
      ]
    },
    {
      "cell_type": "code",
      "metadata": {
        "id": "mSk2NRStKaIw",
        "colab_type": "code",
        "colab": {
          "base_uri": "https://localhost:8080/",
          "height": 50
        },
        "outputId": "99b6d910-ec72-432d-8f97-a359b2ee39c5"
      },
      "source": [
        "g = final_data.groupby(by = ['name'])['rating'].count()\n",
        "most_rated_anime = g.sort_values(ascending=False).index.values\n",
        "most_rated_anime[:10]"
      ],
      "execution_count": null,
      "outputs": [
        {
          "output_type": "execute_result",
          "data": {
            "text/plain": [
              "array(['Death Note', 'Sword Art Online', 'Shingeki no Kyojin', 'Code Geass: Hangyaku no Lelouch', 'Elfen Lied', 'Angel Beats!', 'Naruto', 'Fullmetal Alchemist', 'Fullmetal Alchemist: Brotherhood',\n",
              "       'Toradora!'], dtype=object)"
            ]
          },
          "metadata": {
            "tags": []
          },
          "execution_count": 150
        }
      ]
    },
    {
      "cell_type": "code",
      "metadata": {
        "id": "qV1vtVmkLQvB",
        "colab_type": "code",
        "colab": {}
      },
      "source": [
        "f = lambda x: x in most_rated_anime\n",
        "rtings = anime_data[anime_data.name.apply(lambda x: f(x))][[\"name\", \"rating\"]].values\n",
        "rtings_dict = {x[0]:x[1] for x in rtings}\n",
        "anime_ratings = [rtings_dict[x] for x in most_rated_anime]"
      ],
      "execution_count": null,
      "outputs": []
    },
    {
      "cell_type": "markdown",
      "metadata": {
        "id": "REb4o32p2Jks",
        "colab_type": "text"
      },
      "source": [
        "Let's check the biases for these anime and compare them against the ratings for these anime. Similarly, let's check the biases for the worst anime and compare them against the ratings for the same.\n"
      ]
    },
    {
      "cell_type": "markdown",
      "metadata": {
        "id": "inpbti362JsT",
        "colab_type": "text"
      },
      "source": [
        "Now, let's compare the top 10 out of these and see the results."
      ]
    },
    {
      "cell_type": "code",
      "metadata": {
        "id": "E9zOAwKUG6So",
        "colab_type": "code",
        "colab": {}
      },
      "source": [
        "biases = learn.model.bias(arr = most_rated_anime, is_item = True)"
      ],
      "execution_count": null,
      "outputs": []
    },
    {
      "cell_type": "code",
      "metadata": {
        "id": "a8YB09Wg2Jvd",
        "colab_type": "code",
        "colab": {
          "base_uri": "https://localhost:8080/",
          "height": 197
        },
        "outputId": "f1db78e2-99f4-4b6a-eba3-627941752d97"
      },
      "source": [
        "bias_rating_data = pd.DataFrame({\"Name\": most_rated_anime, \"Ratings\": anime_ratings, \"Biases\": biases})\n",
        "bias_rating_data.sort_values(by = [\"Ratings\"], ascending = False).head()"
      ],
      "execution_count": null,
      "outputs": [
        {
          "output_type": "execute_result",
          "data": {
            "text/html": [
              "<div>\n",
              "<style scoped>\n",
              "    .dataframe tbody tr th:only-of-type {\n",
              "        vertical-align: middle;\n",
              "    }\n",
              "\n",
              "    .dataframe tbody tr th {\n",
              "        vertical-align: top;\n",
              "    }\n",
              "\n",
              "    .dataframe thead th {\n",
              "        text-align: right;\n",
              "    }\n",
              "</style>\n",
              "<table border=\"1\" class=\"dataframe\">\n",
              "  <thead>\n",
              "    <tr style=\"text-align: right;\">\n",
              "      <th></th>\n",
              "      <th>Name</th>\n",
              "      <th>Ratings</th>\n",
              "      <th>Biases</th>\n",
              "    </tr>\n",
              "  </thead>\n",
              "  <tbody>\n",
              "    <tr>\n",
              "      <th>956</th>\n",
              "      <td>Kimi no Na wa.</td>\n",
              "      <td>9.37</td>\n",
              "      <td>2.053326</td>\n",
              "    </tr>\n",
              "    <tr>\n",
              "      <th>8</th>\n",
              "      <td>Fullmetal Alchemist: Brotherhood</td>\n",
              "      <td>9.26</td>\n",
              "      <td>1.965841</td>\n",
              "    </tr>\n",
              "    <tr>\n",
              "      <th>1379</th>\n",
              "      <td>Gintama°</td>\n",
              "      <td>9.25</td>\n",
              "      <td>2.061260</td>\n",
              "    </tr>\n",
              "    <tr>\n",
              "      <th>19</th>\n",
              "      <td>Steins;Gate</td>\n",
              "      <td>9.17</td>\n",
              "      <td>1.890625</td>\n",
              "    </tr>\n",
              "    <tr>\n",
              "      <th>563</th>\n",
              "      <td>Gintama&amp;#039;</td>\n",
              "      <td>9.16</td>\n",
              "      <td>1.913329</td>\n",
              "    </tr>\n",
              "  </tbody>\n",
              "</table>\n",
              "</div>"
            ],
            "text/plain": [
              "                                  Name  Ratings    Biases\n",
              "956                     Kimi no Na wa.     9.37  2.053326\n",
              "8     Fullmetal Alchemist: Brotherhood     9.26  1.965841\n",
              "1379                          Gintama°     9.25  2.061260\n",
              "19                         Steins;Gate     9.17  1.890625\n",
              "563                      Gintama&#039;     9.16  1.913329"
            ]
          },
          "metadata": {
            "tags": []
          },
          "execution_count": 156
        }
      ]
    },
    {
      "cell_type": "code",
      "metadata": {
        "id": "FFFgjuMuNeTM",
        "colab_type": "code",
        "colab": {
          "base_uri": "https://localhost:8080/",
          "height": 197
        },
        "outputId": "03a6d0ad-83e1-42bb-d628-976ff9e7db1c"
      },
      "source": [
        "bias_rating_data.sort_values(by = [\"Ratings\"], ascending = True).head()"
      ],
      "execution_count": null,
      "outputs": [
        {
          "output_type": "execute_result",
          "data": {
            "text/html": [
              "<div>\n",
              "<style scoped>\n",
              "    .dataframe tbody tr th:only-of-type {\n",
              "        vertical-align: middle;\n",
              "    }\n",
              "\n",
              "    .dataframe tbody tr th {\n",
              "        vertical-align: top;\n",
              "    }\n",
              "\n",
              "    .dataframe thead th {\n",
              "        text-align: right;\n",
              "    }\n",
              "</style>\n",
              "<table border=\"1\" class=\"dataframe\">\n",
              "  <thead>\n",
              "    <tr style=\"text-align: right;\">\n",
              "      <th></th>\n",
              "      <th>Name</th>\n",
              "      <th>Ratings</th>\n",
              "      <th>Biases</th>\n",
              "    </tr>\n",
              "  </thead>\n",
              "  <tbody>\n",
              "    <tr>\n",
              "      <th>3385</th>\n",
              "      <td>Tenkuu Danzai Skelter+Heaven</td>\n",
              "      <td>2.00</td>\n",
              "      <td>-2.079890</td>\n",
              "    </tr>\n",
              "    <tr>\n",
              "      <th>4488</th>\n",
              "      <td>Utsu Musume Sayuri</td>\n",
              "      <td>2.14</td>\n",
              "      <td>-1.893989</td>\n",
              "    </tr>\n",
              "    <tr>\n",
              "      <th>1581</th>\n",
              "      <td>Hametsu no Mars</td>\n",
              "      <td>2.37</td>\n",
              "      <td>-1.819410</td>\n",
              "    </tr>\n",
              "    <tr>\n",
              "      <th>3426</th>\n",
              "      <td>Shitcom</td>\n",
              "      <td>2.93</td>\n",
              "      <td>-1.371397</td>\n",
              "    </tr>\n",
              "    <tr>\n",
              "      <th>3863</th>\n",
              "      <td>Vampire Holmes</td>\n",
              "      <td>3.63</td>\n",
              "      <td>-0.751566</td>\n",
              "    </tr>\n",
              "  </tbody>\n",
              "</table>\n",
              "</div>"
            ],
            "text/plain": [
              "                              Name  Ratings    Biases\n",
              "3385  Tenkuu Danzai Skelter+Heaven     2.00 -2.079890\n",
              "4488            Utsu Musume Sayuri     2.14 -1.893989\n",
              "1581               Hametsu no Mars     2.37 -1.819410\n",
              "3426                       Shitcom     2.93 -1.371397\n",
              "3863                Vampire Holmes     3.63 -0.751566"
            ]
          },
          "metadata": {
            "tags": []
          },
          "execution_count": 157
        }
      ]
    },
    {
      "cell_type": "markdown",
      "metadata": {
        "id": "Fb3paTXpC3cr",
        "colab_type": "text"
      },
      "source": [
        "Looking at this it is evident that biases capture the ratings relations quite well. Now let's turn our attention to weights of the models.\n",
        "\n",
        "As we discussed, the weights are nothing but vectors learned by the models. Let's find out the weights of top 100 anime, apply a PCA on them to reduce their dimensionality and then compare them visually on a 2-Dimensional plot. PCA is a dimensionality reduction technique used to compress vector/matrices and is commonly applied particularly when we have to visualize large dimensional data or if we face the Curse of Dimensionality problem in datasets with numerous features or columns. "
      ]
    },
    {
      "cell_type": "code",
      "metadata": {
        "id": "ZqVPlACFDtDh",
        "colab_type": "code",
        "colab": {}
      },
      "source": [
        "most_rated_anime_weights = learn.model.weight(most_rated_anime, is_item = True)\n",
        "most_rated_anime_weights_compressed = most_rated_anime_weights.pca(2).T"
      ],
      "execution_count": null,
      "outputs": []
    },
    {
      "cell_type": "code",
      "metadata": {
        "id": "PzoQ7flFKvD-",
        "colab_type": "code",
        "colab": {
          "base_uri": "https://localhost:8080/",
          "height": 33
        },
        "outputId": "1b5dc6ba-017b-41e0-e172-c78aa78bfbae"
      },
      "source": [
        "most_rated_anime_weights_compressed.shape"
      ],
      "execution_count": null,
      "outputs": [
        {
          "output_type": "execute_result",
          "data": {
            "text/plain": [
              "torch.Size([2, 4801])"
            ]
          },
          "metadata": {
            "tags": []
          },
          "execution_count": 221
        }
      ]
    },
    {
      "cell_type": "code",
      "metadata": {
        "id": "9EqE6KYlEWMy",
        "colab_type": "code",
        "colab": {
          "base_uri": "https://localhost:8080/",
          "height": 923
        },
        "outputId": "399c52dd-411f-4a34-b551-5630e3718152"
      },
      "source": [
        "plot_n = 50\n",
        "idxs = list(range(plot_n))\n",
        "\n",
        "X = most_rated_anime_weights_compressed[0,:plot_n]\n",
        "Y = most_rated_anime_weights_compressed[1,:plot_n]\n",
        "\n",
        "plt.figure(figsize=(25,15))\n",
        "plt.scatter(X, Y)\n",
        "for i, x, y in zip(most_rated_anime[idxs], X, Y):\n",
        "    plt.text(x, y, i, color = np.random.rand(3) * 0.8, fontsize=10)\n",
        "# plt.ylim(-0.0005,0.0005)\n",
        "plt.show()"
      ],
      "execution_count": null,
      "outputs": [
        {
          "output_type": "display_data",
          "data": {
            "image/png": "[encoded data removed]",
            "text/plain": [
              "<Figure size 1800x1080 with 1 Axes>"
            ]
          },
          "metadata": {
            "tags": []
          }
        }
      ]
    },
    {
      "cell_type": "markdown",
      "metadata": {
        "id": "ythk2SyfL9wQ",
        "colab_type": "text"
      },
      "source": [
        "Now let's test the hypothesis about Oregairu, Hyouka and Tokyo Ghoul"
      ]
    },
    {
      "cell_type": "code",
      "metadata": {
        "id": "ybsoCCwJMkR4",
        "colab_type": "code",
        "colab": {}
      },
      "source": [
        "TG = learn.model.weight([\"Tokyo Ghoul\"], is_item = True)\n",
        "Oregairu = learn.model.weight([\"Yahari Ore no Seishun Love Comedy wa Machigatteiru.\"], is_item = True)\n",
        "Hyouka = learn.model.weight([\"Hyouka\"], is_item = True)"
      ],
      "execution_count": null,
      "outputs": []
    },
    {
      "cell_type": "code",
      "metadata": {
        "id": "adr0RGZJMjCO",
        "colab_type": "code",
        "colab": {
          "base_uri": "https://localhost:8080/",
          "height": 33
        },
        "outputId": "c16aaa25-a240-4d72-cf2a-4296cb8b0289"
      },
      "source": [
        "TG_Oregairu = np.dot(TG.numpy(), Oregairu.numpy().T)[0][0]\n",
        "print(f\"Similarity between Tokyo Ghoul and Oregairu: {np.round(TG_Oregairu, 2)}\")"
      ],
      "execution_count": null,
      "outputs": [
        {
          "output_type": "stream",
          "text": [
            "Similarity between Tokyo Ghoul and Oregairu: -0.07999999821186066\n"
          ],
          "name": "stdout"
        }
      ]
    },
    {
      "cell_type": "code",
      "metadata": {
        "id": "jDBo_rTXMjHB",
        "colab_type": "code",
        "colab": {
          "base_uri": "https://localhost:8080/",
          "height": 33
        },
        "outputId": "8cf45c88-b958-46a4-fde7-1c827d8321aa"
      },
      "source": [
        "Oregairu_Hyouka = np.dot(Oregairu.numpy(), Hyouka.numpy().T)[0][0]\n",
        "print(f\"Similarity between Hyouka and Oregairu: {np.round(Oregairu_Hyouka, 2)}\")"
      ],
      "execution_count": null,
      "outputs": [
        {
          "output_type": "stream",
          "text": [
            "Similarity between Hyouka and Oregairu: 0.4399999976158142\n"
          ],
          "name": "stdout"
        }
      ]
    },
    {
      "cell_type": "code",
      "metadata": {
        "id": "nuiPcIgOMjO4",
        "colab_type": "code",
        "colab": {
          "base_uri": "https://localhost:8080/",
          "height": 33
        },
        "outputId": "e37cda72-e8f0-4487-836f-411eb04ac376"
      },
      "source": [
        "TG_Hyouka = np.dot(TG.numpy(), Hyouka.numpy().T)[0][0]\n",
        "print(f\"Similarity between Hyouka and Tokyo Ghoul: {np.round(TG_Hyouka, 2)}\")"
      ],
      "execution_count": null,
      "outputs": [
        {
          "output_type": "stream",
          "text": [
            "Similarity between Hyouka and Tokyo Ghoul: 0.019999999552965164\n"
          ],
          "name": "stdout"
        }
      ]
    },
    {
      "cell_type": "markdown",
      "metadata": {
        "id": "w2lewLXQNm_l",
        "colab_type": "text"
      },
      "source": [
        "## Viewer analysis\n",
        "\n",
        "Let's sample a user at random from the embedding and see it's most closest and most farthest neighbour in terms of vector embeddings from amongst the first 200 items."
      ]
    },
    {
      "cell_type": "code",
      "metadata": {
        "id": "lIbK81CGqucE",
        "colab_type": "code",
        "colab": {}
      },
      "source": [
        "all_users = [dloader.classes[\"user_id\"][x] for x in obj[\"Train_viewers\"]]"
      ],
      "execution_count": null,
      "outputs": []
    },
    {
      "cell_type": "code",
      "metadata": {
        "id": "pz6QXMOBqaXG",
        "colab_type": "code",
        "colab": {
          "base_uri": "https://localhost:8080/",
          "height": 33
        },
        "outputId": "d1b24deb-1064-4509-8ff6-46a36b30b5a3"
      },
      "source": [
        "random.seed(45)\n",
        "random_user = random.choice(all_users)\n",
        "random_user"
      ],
      "execution_count": null,
      "outputs": [
        {
          "output_type": "execute_result",
          "data": {
            "text/plain": [
              "34908"
            ]
          },
          "metadata": {
            "tags": []
          },
          "execution_count": 224
        }
      ]
    },
    {
      "cell_type": "code",
      "metadata": {
        "id": "WY0h3Onxqhal",
        "colab_type": "code",
        "colab": {}
      },
      "source": [
        "random_user_weight = learn.model.weight([random_user], is_item = False).cpu().numpy()"
      ],
      "execution_count": null,
      "outputs": []
    },
    {
      "cell_type": "code",
      "metadata": {
        "id": "-OKHmo7QpPC_",
        "colab_type": "code",
        "colab": {
          "base_uri": "https://localhost:8080/",
          "height": 33
        },
        "outputId": "98c7f896-739c-45ce-b06c-7a8f8f88e84f"
      },
      "source": [
        "for item in learn.model.u_weight.named_parameters():\n",
        "    print(item[1].shape)"
      ],
      "execution_count": null,
      "outputs": [
        {
          "output_type": "stream",
          "text": [
            "torch.Size([72963, 50])\n"
          ],
          "name": "stdout"
        }
      ]
    },
    {
      "cell_type": "code",
      "metadata": {
        "id": "6558Uxtx5M2Z",
        "colab_type": "code",
        "colab": {}
      },
      "source": [
        "user_weights = learn.model.weight(all_users, is_item = False).cpu().numpy()"
      ],
      "execution_count": null,
      "outputs": []
    },
    {
      "cell_type": "code",
      "metadata": {
        "id": "zNT8i0MZqoSH",
        "colab_type": "code",
        "colab": {}
      },
      "source": [
        "user_distances = {}\n",
        "for u, w in zip(all_users, user_weights):\n",
        "    user_distances[u] = np.dot(random_user_weight, w.T)"
      ],
      "execution_count": null,
      "outputs": []
    },
    {
      "cell_type": "code",
      "metadata": {
        "id": "zmTbpDBTqoWX",
        "colab_type": "code",
        "colab": {}
      },
      "source": [
        "ranked_users = sorted(user_distances, key = lambda x: user_distances[x], reverse = True)\n",
        "most_similar_user = ranked_users[0]\n",
        "most_different_user = ranked_users[-1]"
      ],
      "execution_count": null,
      "outputs": []
    },
    {
      "cell_type": "code",
      "metadata": {
        "id": "h4HHFLLq-2af",
        "colab_type": "code",
        "colab": {}
      },
      "source": [
        "most_similar_user_weights = learn.model.weight([most_similar_user], is_item = False).cpu().numpy()\n",
        "most_diff_user_weights = learn.model.weight([most_different_user], is_item = False).cpu().numpy()"
      ],
      "execution_count": null,
      "outputs": []
    },
    {
      "cell_type": "code",
      "metadata": {
        "id": "Fxirnel-qoZk",
        "colab_type": "code",
        "colab": {}
      },
      "source": [
        "most_rated_anime_weights = most_rated_anime_weights.cpu().numpy()"
      ],
      "execution_count": null,
      "outputs": []
    },
    {
      "cell_type": "code",
      "metadata": {
        "id": "rBjmdmll_MOJ",
        "colab_type": "code",
        "colab": {
          "base_uri": "https://localhost:8080/",
          "height": 100
        },
        "outputId": "993a377d-5524-4e0a-db06-c213f44740fa"
      },
      "source": [
        "# Find the ranking of anime for the randomly sampled user\n",
        "random_user_anime_order = most_rated_anime_weights.dot(random_user_weight.T).reshape(most_rated_anime_weights.shape[0],).argsort()\n",
        "random_user_anime_named_order = [most_rated_anime[x] for x in random_user_anime_order]\n",
        "top_5 = random_user_anime_named_order[-5:]\n",
        "top_5"
      ],
      "execution_count": null,
      "outputs": [
        {
          "output_type": "execute_result",
          "data": {
            "text/plain": [
              "['Akira',\n",
              " 'Ghost in the Shell 2.0',\n",
              " 'Sen to Chihiro no Kamikakushi',\n",
              " 'Nakedyouth',\n",
              " 'Mononoke Hime']"
            ]
          },
          "metadata": {
            "tags": []
          },
          "execution_count": 232
        }
      ]
    },
    {
      "cell_type": "code",
      "metadata": {
        "id": "d89vlqkRA5lm",
        "colab_type": "code",
        "colab": {
          "base_uri": "https://localhost:8080/",
          "height": 100
        },
        "outputId": "b588ddae-5192-492c-f4f9-67f66e6ecd67"
      },
      "source": [
        "# Find the ranking of anime for the most similar user\n",
        "most_similar_user_anime_order = most_rated_anime_weights.dot(most_similar_user_weights.T).reshape(most_rated_anime_weights.shape[0],).argsort()\n",
        "most_similar_user_anime_named_order = [most_rated_anime[x] for x in most_similar_user_anime_order]\n",
        "top_5 = most_similar_user_anime_named_order[-5:]\n",
        "top_5"
      ],
      "execution_count": null,
      "outputs": [
        {
          "output_type": "execute_result",
          "data": {
            "text/plain": [
              "['Akira',\n",
              " 'Ghost in the Shell 2.0',\n",
              " 'Sen to Chihiro no Kamikakushi',\n",
              " 'Nakedyouth',\n",
              " 'Mononoke Hime']"
            ]
          },
          "metadata": {
            "tags": []
          },
          "execution_count": 233
        }
      ]
    },
    {
      "cell_type": "code",
      "metadata": {
        "id": "2U5_y7t2BOvr",
        "colab_type": "code",
        "colab": {
          "base_uri": "https://localhost:8080/",
          "height": 100
        },
        "outputId": "9f23d33f-8c83-459c-e47b-88e22ff80e4f"
      },
      "source": [
        "# Find the ranking of anume for the most different user\n",
        "most_diff_user_anime_order = most_rated_anime_weights.dot(most_diff_user_weights.T).reshape(most_rated_anime_weights.shape[0],).argsort()\n",
        "most_diff_user_anime_named_order = [most_rated_anime[x] for x in most_diff_user_anime_order]\n",
        "top_5 = most_diff_user_anime_named_order[-5:]\n",
        "top_5"
      ],
      "execution_count": null,
      "outputs": [
        {
          "output_type": "execute_result",
          "data": {
            "text/plain": [
              "['Girls und Panzer der Film',\n",
              " 'Mahou Shoujo Madoka★Magica Movie 3: Hangyaku no Monogatari',\n",
              " 'Monogatari Series: Second Season',\n",
              " 'Metal Fight Beyblade 4D',\n",
              " 'Yojouhan Shinwa Taikei']"
            ]
          },
          "metadata": {
            "tags": []
          },
          "execution_count": 234
        }
      ]
    }
  ]
}